{
 "cells": [
  {
   "cell_type": "code",
   "execution_count": 1,
   "metadata": {
    "_cell_guid": "b1076dfc-b9ad-4769-8c92-a6c4dae69d19",
    "_uuid": "8f2839f25d086af736a60e9eeb907d3b93b6e0e5"
   },
   "outputs": [
    {
     "name": "stdout",
     "output_type": "stream",
     "text": [
      "/kaggle/input/amazon-fine-food-reviews/Reviews.csv\n",
      "/kaggle/input/amazon-fine-food-reviews/database.sqlite\n",
      "/kaggle/input/amazon-fine-food-reviews/hashes.txt\n"
     ]
    }
   ],
   "source": [
    "# This Python 3 environment comes with many helpful analytics libraries installed\n",
    "# It is defined by the kaggle/python docker image: https://github.com/kaggle/docker-python\n",
    "# For example, here's several helpful packages to load in \n",
    "\n",
    "import numpy as np # linear algebra\n",
    "import pandas as pd # data processing, CSV file I/O (e.g. pd.read_csv)\n",
    "\n",
    "# Input data files are available in the \"../input/\" directory.\n",
    "# For example, running this (by clicking run or pressing Shift+Enter) will list all files under the input directory\n",
    "\n",
    "import os\n",
    "for dirname, _, filenames in os.walk('/kaggle/input'):\n",
    "    for filename in filenames:\n",
    "        print(os.path.join(dirname, filename))\n",
    "\n",
    "# Any results you write to the current directory are saved as output."
   ]
  },
  {
   "cell_type": "code",
   "execution_count": 2,
   "metadata": {
    "_cell_guid": "79c7e3d0-c299-4dcb-8224-4455121ee9b0",
    "_uuid": "d629ff2d2480ee46fbb7e2d37f6b5fab8052498a"
   },
   "outputs": [],
   "source": [
    "import pandas as pd\n",
    "data=pd.read_csv(\"../input/amazon-fine-food-reviews/Reviews.csv\",nrows=100000)\n"
   ]
  },
  {
   "cell_type": "code",
   "execution_count": 3,
   "metadata": {},
   "outputs": [
    {
     "name": "stderr",
     "output_type": "stream",
     "text": [
      "Using TensorFlow backend.\n"
     ]
    }
   ],
   "source": [
    "import numpy as np\n",
    "import pandas as pd\n",
    "import re           \n",
    "from bs4 import BeautifulSoup \n",
    "from keras.preprocessing.text import Tokenizer \n",
    "from keras.preprocessing.sequence import pad_sequences\n",
    "from nltk.corpus import stopwords   \n",
    "from tensorflow.keras.layers import Input, LSTM, Embedding, Dense, Concatenate, TimeDistributed, Bidirectional\n",
    "from tensorflow.keras.models import Model\n",
    "from tensorflow.keras.callbacks import EarlyStopping\n",
    "import warnings\n",
    "pd.set_option(\"display.max_colwidth\", 200)\n",
    "warnings.filterwarnings(\"ignore\")"
   ]
  },
  {
   "cell_type": "code",
   "execution_count": 4,
   "metadata": {},
   "outputs": [
    {
     "data": {
      "text/plain": [
       "0    I have bought several of the Vitality canned dog food products and have found them all to be of good quality. The product looks more like a stew than a processed meat and it smells better. My Labr...\n",
       "1             Product arrived labeled as Jumbo Salted Peanuts...the peanuts were actually small sized unsalted. Not sure if this was an error or if the vendor intended to represent the product as \"Jumbo\".\n",
       "2    This is a confection that has been around a few centuries.  It is a light, pillowy citrus gelatin with nuts - in this case Filberts. And it is cut into tiny squares and then liberally coated with ...\n",
       "3    If you are looking for the secret ingredient in Robitussin I believe I have found it.  I got this in addition to the Root Beer Extract I ordered (which was good) and made some cherry soda.  The fl...\n",
       "4                                                               Great taffy at a great price.  There was a wide assortment of yummy taffy.  Delivery was very quick.  If your a taffy lover, this is a deal.\n",
       "Name: Text, dtype: object"
      ]
     },
     "execution_count": 4,
     "metadata": {},
     "output_type": "execute_result"
    }
   ],
   "source": [
    "data['Text'].head()"
   ]
  },
  {
   "cell_type": "code",
   "execution_count": 5,
   "metadata": {},
   "outputs": [],
   "source": [
    "import tensorflow as tf\n",
    "import os\n",
    "from tensorflow.python.keras.layers import Layer\n",
    "from tensorflow.python.keras import backend as K\n",
    "\n",
    "\n",
    "class AttentionLayer(Layer):\n",
    "    \"\"\"\n",
    "    This class implements Bahdanau attention (https://arxiv.org/pdf/1409.0473.pdf).\n",
    "    There are three sets of weights introduced W_a, U_a, and V_a\n",
    "     \"\"\"\n",
    "\n",
    "    def __init__(self, **kwargs):\n",
    "        super(AttentionLayer, self).__init__(**kwargs)\n",
    "\n",
    "    def build(self, input_shape):\n",
    "        assert isinstance(input_shape, list)\n",
    "        # Create a trainable weight variable for this layer.\n",
    "\n",
    "        self.W_a = self.add_weight(name='W_a',\n",
    "                                   shape=tf.TensorShape((input_shape[0][2], input_shape[0][2])),\n",
    "                                   initializer='uniform',\n",
    "                                   trainable=True)\n",
    "        self.U_a = self.add_weight(name='U_a',\n",
    "                                   shape=tf.TensorShape((input_shape[1][2], input_shape[0][2])),\n",
    "                                   initializer='uniform',\n",
    "                                   trainable=True)\n",
    "        self.V_a = self.add_weight(name='V_a',\n",
    "                                   shape=tf.TensorShape((input_shape[0][2], 1)),\n",
    "                                   initializer='uniform',\n",
    "                                   trainable=True)\n",
    "\n",
    "        super(AttentionLayer, self).build(input_shape)  # Be sure to call this at the end\n",
    "\n",
    "    def call(self, inputs, verbose=False):\n",
    "        \"\"\"\n",
    "        inputs: [encoder_output_sequence, decoder_output_sequence]\n",
    "        \"\"\"\n",
    "        assert type(inputs) == list\n",
    "        encoder_out_seq, decoder_out_seq = inputs\n",
    "        if verbose:\n",
    "            print('encoder_out_seq>', encoder_out_seq.shape)\n",
    "            print('decoder_out_seq>', decoder_out_seq.shape)\n",
    "\n",
    "        def energy_step(inputs, states):\n",
    "            \"\"\" Step function for computing energy for a single decoder state \"\"\"\n",
    "\n",
    "            assert_msg = \"States must be a list. However states {} is of type {}\".format(states, type(states))\n",
    "            assert isinstance(states, list) or isinstance(states, tuple), assert_msg\n",
    "\n",
    "            \"\"\" Some parameters required for shaping tensors\"\"\"\n",
    "            en_seq_len, en_hidden = encoder_out_seq.shape[1], encoder_out_seq.shape[2]\n",
    "            de_hidden = inputs.shape[-1]\n",
    "\n",
    "            \"\"\" Computing S.Wa where S=[s0, s1, ..., si]\"\"\"\n",
    "            # <= batch_size*en_seq_len, latent_dim\n",
    "            reshaped_enc_outputs = K.reshape(encoder_out_seq, (-1, en_hidden))\n",
    "            # <= batch_size*en_seq_len, latent_dim\n",
    "            W_a_dot_s = K.reshape(K.dot(reshaped_enc_outputs, self.W_a), (-1, en_seq_len, en_hidden))\n",
    "            if verbose:\n",
    "                print('wa.s>',W_a_dot_s.shape)\n",
    "\n",
    "            \"\"\" Computing hj.Ua \"\"\"\n",
    "            U_a_dot_h = K.expand_dims(K.dot(inputs, self.U_a), 1)  # <= batch_size, 1, latent_dim\n",
    "            if verbose:\n",
    "                print('Ua.h>',U_a_dot_h.shape)\n",
    "\n",
    "            \"\"\" tanh(S.Wa + hj.Ua) \"\"\"\n",
    "            # <= batch_size*en_seq_len, latent_dim\n",
    "            reshaped_Ws_plus_Uh = K.tanh(K.reshape(W_a_dot_s + U_a_dot_h, (-1, en_hidden)))\n",
    "            if verbose:\n",
    "                print('Ws+Uh>', reshaped_Ws_plus_Uh.shape)\n",
    "\n",
    "            \"\"\" softmax(va.tanh(S.Wa + hj.Ua)) \"\"\"\n",
    "            # <= batch_size, en_seq_len\n",
    "            e_i = K.reshape(K.dot(reshaped_Ws_plus_Uh, self.V_a), (-1, en_seq_len))\n",
    "            # <= batch_size, en_seq_len\n",
    "            e_i = K.softmax(e_i)\n",
    "\n",
    "            if verbose:\n",
    "                print('ei>', e_i.shape)\n",
    "\n",
    "            return e_i, [e_i]\n",
    "\n",
    "        def context_step(inputs, states):\n",
    "            \"\"\" Step function for computing ci using ei \"\"\"\n",
    "            # <= batch_size, hidden_size\n",
    "            c_i = K.sum(encoder_out_seq * K.expand_dims(inputs, -1), axis=1)\n",
    "            if verbose:\n",
    "                print('ci>', c_i.shape)\n",
    "            return c_i, [c_i]\n",
    "\n",
    "        def create_inital_state(inputs, hidden_size):\n",
    "            # We are not using initial states, but need to pass something to K.rnn funciton\n",
    "            fake_state = K.zeros_like(inputs)  # <= (batch_size, enc_seq_len, latent_dim\n",
    "            fake_state = K.sum(fake_state, axis=[1, 2])  # <= (batch_size)\n",
    "            fake_state = K.expand_dims(fake_state)  # <= (batch_size, 1)\n",
    "            fake_state = K.tile(fake_state, [1, hidden_size])  # <= (batch_size, latent_dim\n",
    "            return fake_state\n",
    "\n",
    "        fake_state_c = create_inital_state(encoder_out_seq, encoder_out_seq.shape[-1])\n",
    "        fake_state_e = create_inital_state(encoder_out_seq, encoder_out_seq.shape[1])  # <= (batch_size, enc_seq_len, latent_dim\n",
    "\n",
    "        \"\"\" Computing energy outputs \"\"\"\n",
    "        # e_outputs => (batch_size, de_seq_len, en_seq_len)\n",
    "        last_out, e_outputs, _ = K.rnn(\n",
    "            energy_step, decoder_out_seq, [fake_state_e],\n",
    "        )\n",
    "\n",
    "        \"\"\" Computing context vectors \"\"\"\n",
    "        last_out, c_outputs, _ = K.rnn(\n",
    "            context_step, e_outputs, [fake_state_c],\n",
    "        )\n",
    "\n",
    "        return c_outputs, e_outputs\n",
    "\n",
    "    def compute_output_shape(self, input_shape):\n",
    "        \"\"\" Outputs produced by the layer \"\"\"\n",
    "        return [\n",
    "            tf.TensorShape((input_shape[1][0], input_shape[1][1], input_shape[1][2])),\n",
    "            tf.TensorShape((input_shape[1][0], input_shape[1][1], input_shape[0][1]))\n",
    "        ]"
   ]
  },
  {
   "cell_type": "code",
   "execution_count": 6,
   "metadata": {},
   "outputs": [],
   "source": [
    "\n",
    "data.drop_duplicates(subset=['Text'],inplace=True)  #dropping duplicates\n",
    "data.dropna(axis=0,inplace=True)   #dropping na"
   ]
  },
  {
   "cell_type": "code",
   "execution_count": 7,
   "metadata": {},
   "outputs": [],
   "source": [
    "contraction_mapping = {\"ain't\": \"is not\", \"aren't\": \"are not\",\"can't\": \"cannot\", \"'cause\": \"because\", \"could've\": \"could have\", \"couldn't\": \"could not\",\n",
    "\n",
    "                           \"didn't\": \"did not\", \"doesn't\": \"does not\", \"don't\": \"do not\", \"hadn't\": \"had not\", \"hasn't\": \"has not\", \"haven't\": \"have not\",\n",
    "\n",
    "                           \"he'd\": \"he would\",\"he'll\": \"he will\", \"he's\": \"he is\", \"how'd\": \"how did\", \"how'd'y\": \"how do you\", \"how'll\": \"how will\", \"how's\": \"how is\",\n",
    "\n",
    "                           \"I'd\": \"I would\", \"I'd've\": \"I would have\", \"I'll\": \"I will\", \"I'll've\": \"I will have\",\"I'm\": \"I am\", \"I've\": \"I have\", \"i'd\": \"i would\",\n",
    "\n",
    "                           \"i'd've\": \"i would have\", \"i'll\": \"i will\",  \"i'll've\": \"i will have\",\"i'm\": \"i am\", \"i've\": \"i have\", \"isn't\": \"is not\", \"it'd\": \"it would\",\n",
    "\n",
    "                           \"it'd've\": \"it would have\", \"it'll\": \"it will\", \"it'll've\": \"it will have\",\"it's\": \"it is\", \"let's\": \"let us\", \"ma'am\": \"madam\",\n",
    "\n",
    "                           \"mayn't\": \"may not\", \"might've\": \"might have\",\"mightn't\": \"might not\",\"mightn't've\": \"might not have\", \"must've\": \"must have\",\n",
    "\n",
    "                           \"mustn't\": \"must not\", \"mustn't've\": \"must not have\", \"needn't\": \"need not\", \"needn't've\": \"need not have\",\"o'clock\": \"of the clock\",\n",
    "\n",
    "                           \"oughtn't\": \"ought not\", \"oughtn't've\": \"ought not have\", \"shan't\": \"shall not\", \"sha'n't\": \"shall not\", \"shan't've\": \"shall not have\",\n",
    "\n",
    "                           \"she'd\": \"she would\", \"she'd've\": \"she would have\", \"she'll\": \"she will\", \"she'll've\": \"she will have\", \"she's\": \"she is\",\n",
    "\n",
    "                           \"should've\": \"should have\", \"shouldn't\": \"should not\", \"shouldn't've\": \"should not have\", \"so've\": \"so have\",\"so's\": \"so as\",\n",
    "\n",
    "                           \"this's\": \"this is\",\"that'd\": \"that would\", \"that'd've\": \"that would have\", \"that's\": \"that is\", \"there'd\": \"there would\",\n",
    "\n",
    "                           \"there'd've\": \"there would have\", \"there's\": \"there is\", \"here's\": \"here is\",\"they'd\": \"they would\", \"they'd've\": \"they would have\",\n",
    "\n",
    "                           \"they'll\": \"they will\", \"they'll've\": \"they will have\", \"they're\": \"they are\", \"they've\": \"they have\", \"to've\": \"to have\",\n",
    "\n",
    "                           \"wasn't\": \"was not\", \"we'd\": \"we would\", \"we'd've\": \"we would have\", \"we'll\": \"we will\", \"we'll've\": \"we will have\", \"we're\": \"we are\",\n",
    "\n",
    "                           \"we've\": \"we have\", \"weren't\": \"were not\", \"what'll\": \"what will\", \"what'll've\": \"what will have\", \"what're\": \"what are\",\n",
    "\n",
    "                           \"what's\": \"what is\", \"what've\": \"what have\", \"when's\": \"when is\", \"when've\": \"when have\", \"where'd\": \"where did\", \"where's\": \"where is\",\n",
    "\n",
    "                           \"where've\": \"where have\", \"who'll\": \"who will\", \"who'll've\": \"who will have\", \"who's\": \"who is\", \"who've\": \"who have\",\n",
    "\n",
    "                           \"why's\": \"why is\", \"why've\": \"why have\", \"will've\": \"will have\", \"won't\": \"will not\", \"won't've\": \"will not have\",\n",
    "\n",
    "                           \"would've\": \"would have\", \"wouldn't\": \"would not\", \"wouldn't've\": \"would not have\", \"y'all\": \"you all\",\n",
    "\n",
    "                           \"y'all'd\": \"you all would\",\"y'all'd've\": \"you all would have\",\"y'all're\": \"you all are\",\"y'all've\": \"you all have\",\n",
    "\n",
    "                           \"you'd\": \"you would\", \"you'd've\": \"you would have\", \"you'll\": \"you will\", \"you'll've\": \"you will have\",\n",
    "\n",
    "                           \"you're\": \"you are\", \"you've\": \"you have\"}\n",
    "\n"
   ]
  },
  {
   "cell_type": "code",
   "execution_count": 8,
   "metadata": {},
   "outputs": [
    {
     "data": {
      "text/plain": [
       "0    I have bought several of the Vitality canned dog food products and have found them all to be of good quality. The product looks more like a stew than a processed meat and it smells better. My Labr...\n",
       "1             Product arrived labeled as Jumbo Salted Peanuts...the peanuts were actually small sized unsalted. Not sure if this was an error or if the vendor intended to represent the product as \"Jumbo\".\n",
       "2    This is a confection that has been around a few centuries.  It is a light, pillowy citrus gelatin with nuts - in this case Filberts. And it is cut into tiny squares and then liberally coated with ...\n",
       "3    If you are looking for the secret ingredient in Robitussin I believe I have found it.  I got this in addition to the Root Beer Extract I ordered (which was good) and made some cherry soda.  The fl...\n",
       "4                                                               Great taffy at a great price.  There was a wide assortment of yummy taffy.  Delivery was very quick.  If your a taffy lover, this is a deal.\n",
       "5    I got a wild hair for taffy and ordered this five pound bag. The taffy was all very enjoyable with many flavors: watermelon, root beer, melon, peppermint, grape, etc. My only complaint is there wa...\n",
       "6    This saltwater taffy had great flavors and was very soft and chewy.  Each candy was individually wrapped well.  None of the candies were stuck together, which did happen in the expensive version, ...\n",
       "7                                                               This taffy is so good.  It is very soft and chewy.  The flavors are amazing.  I would definitely recommend you buying it.  Very satisfying!!\n",
       "8                                                                        Right now I'm mostly just sprouting this so my cats can eat the grass. They love it. I rotate it around with Wheatgrass and Rye too\n",
       "9                                                                  This is a very healthy dog food. Good for their digestion. Also good for small puppies. My dog eats her required amount at every feeding.\n",
       "Name: Text, dtype: object"
      ]
     },
     "execution_count": 8,
     "metadata": {},
     "output_type": "execute_result"
    }
   ],
   "source": [
    "data['Text'][:10]"
   ]
  },
  {
   "cell_type": "code",
   "execution_count": 9,
   "metadata": {},
   "outputs": [],
   "source": [
    "stop_words = set(stopwords.words('english')) \n",
    "def text_cleaner(text):\n",
    "    newString = text.lower()\n",
    "    newString = BeautifulSoup(newString, \"lxml\").text\n",
    "    newString = re.sub(r'\\([^)]*\\)', '', newString)\n",
    "    newString = re.sub('\"','', newString)\n",
    "    newString = ' '.join([contraction_mapping[t] if t in contraction_mapping else t for t in newString.split(\" \")])    \n",
    "    newString = re.sub(r\"'s\\b\",\"\",newString)\n",
    "    newString = re.sub(\"[^a-zA-Z]\", \" \", newString) \n",
    "    tokens = [w for w in newString.split() if not w in stop_words]\n",
    "    long_words=[]\n",
    "    for i in tokens:\n",
    "        if len(i)>=3:                  #removing short word\n",
    "            long_words.append(i)   \n",
    "    return (\" \".join(long_words)).strip()\n",
    "\n"
   ]
  },
  {
   "cell_type": "code",
   "execution_count": 10,
   "metadata": {},
   "outputs": [],
   "source": [
    "cleaned_text = []\n",
    "for t in data['Text']:\n",
    "    cleaned_text.append(text_cleaner(t))"
   ]
  },
  {
   "cell_type": "code",
   "execution_count": 11,
   "metadata": {},
   "outputs": [
    {
     "data": {
      "text/plain": [
       "0                            Good Quality Dog Food\n",
       "1                                Not as Advertised\n",
       "2                            \"Delight\" says it all\n",
       "3                                   Cough Medicine\n",
       "4                                      Great taffy\n",
       "5                                       Nice Taffy\n",
       "6    Great!  Just as good as the expensive brands!\n",
       "7                           Wonderful, tasty taffy\n",
       "8                                       Yay Barley\n",
       "9                                 Healthy Dog Food\n",
       "Name: Summary, dtype: object"
      ]
     },
     "execution_count": 11,
     "metadata": {},
     "output_type": "execute_result"
    }
   ],
   "source": [
    "data['Summary'][:10]"
   ]
  },
  {
   "cell_type": "code",
   "execution_count": 12,
   "metadata": {},
   "outputs": [],
   "source": [
    "def summary_cleaner(text):\n",
    "    newString = re.sub('\"','', text)\n",
    "    newString = ' '.join([contraction_mapping[t] if t in contraction_mapping else t for t in newString.split(\" \")])    \n",
    "    newString = re.sub(r\"'s\\b\",\"\",newString)\n",
    "    newString = re.sub(\"[^a-zA-Z]\", \" \", newString)\n",
    "    newString = newString.lower()\n",
    "    tokens=newString.split()\n",
    "    newString=''\n",
    "    for i in tokens:\n",
    "        if len(i)>1:                                 \n",
    "            newString=newString+i+' '  \n",
    "    return newString\n",
    "\n",
    "#Call the above function\n",
    "cleaned_summary = []\n",
    "for t in data['Summary']:\n",
    "    cleaned_summary.append(summary_cleaner(t))\n",
    "\n"
   ]
  },
  {
   "cell_type": "code",
   "execution_count": 13,
   "metadata": {},
   "outputs": [],
   "source": [
    "data['cleaned_text']=cleaned_text\n",
    "data['cleaned_summary']=cleaned_summary\n",
    "data['cleaned_summary'].replace('', np.nan, inplace=True)\n",
    "data.dropna(axis=0,inplace=True)"
   ]
  },
  {
   "cell_type": "code",
   "execution_count": 14,
   "metadata": {},
   "outputs": [
    {
     "data": {
      "text/plain": [
       "0                         good quality dog food \n",
       "1                             not as advertised \n",
       "2                           delight says it all \n",
       "3                                cough medicine \n",
       "4                                   great taffy \n",
       "5                                    nice taffy \n",
       "6    great just as good as the expensive brands \n",
       "7                         wonderful tasty taffy \n",
       "8                                    yay barley \n",
       "9                              healthy dog food \n",
       "Name: cleaned_summary, dtype: object"
      ]
     },
     "execution_count": 14,
     "metadata": {},
     "output_type": "execute_result"
    }
   ],
   "source": [
    "data['cleaned_summary'].iloc[:10]"
   ]
  },
  {
   "cell_type": "code",
   "execution_count": 15,
   "metadata": {},
   "outputs": [],
   "source": [
    "data['cleaned_summary']=data['cleaned_summary'].apply(lambda x:'_start_'+x+\"_end_\")"
   ]
  },
  {
   "cell_type": "code",
   "execution_count": 16,
   "metadata": {},
   "outputs": [
    {
     "name": "stdout",
     "output_type": "stream",
     "text": [
      "product arrived labeled jumbo salted peanuts peanuts actually small sized unsalted sure error vendor intended represent product jumbo\n",
      "_start_not as advertised _end_\n",
      "confection around centuries light pillowy citrus gelatin nuts case filberts cut tiny squares liberally coated powdered sugar tiny mouthful heaven chewy flavorful highly recommend yummy treat familiar story lewis lion witch wardrobe treat seduces edmund selling brother sisters witch\n",
      "_start_delight says it all _end_\n",
      "looking secret ingredient robitussin believe found got addition root beer extract ordered made cherry soda flavor medicinal\n",
      "_start_cough medicine _end_\n",
      "great taffy great price wide assortment yummy taffy delivery quick taffy lover deal\n",
      "_start_great taffy _end_\n"
     ]
    }
   ],
   "source": [
    "for i in range(1,5):\n",
    "    print(data['cleaned_text'][i])\n",
    "    print(data['cleaned_summary'][i])"
   ]
  },
  {
   "cell_type": "code",
   "execution_count": 17,
   "metadata": {},
   "outputs": [],
   "source": [
    "import matplotlib.pyplot as plt\n",
    "text_word_count=[]\n",
    "summary_word_count=[]\n",
    "for x in data['cleaned_summary']:\n",
    "    summary_word_count.append(len(list(x.split())))\n",
    "for x in data['cleaned_text']:\n",
    "    text_word_count.append(len(list(x.split())))\n"
   ]
  },
  {
   "cell_type": "code",
   "execution_count": 18,
   "metadata": {},
   "outputs": [],
   "source": [
    "length_df = pd.DataFrame({'text':text_word_count, 'summary':summary_word_count})"
   ]
  },
  {
   "cell_type": "code",
   "execution_count": 19,
   "metadata": {},
   "outputs": [
    {
     "data": {
      "text/html": [
       "<div>\n",
       "<style scoped>\n",
       "    .dataframe tbody tr th:only-of-type {\n",
       "        vertical-align: middle;\n",
       "    }\n",
       "\n",
       "    .dataframe tbody tr th {\n",
       "        vertical-align: top;\n",
       "    }\n",
       "\n",
       "    .dataframe thead th {\n",
       "        text-align: right;\n",
       "    }\n",
       "</style>\n",
       "<table border=\"1\" class=\"dataframe\">\n",
       "  <thead>\n",
       "    <tr style=\"text-align: right;\">\n",
       "      <th></th>\n",
       "      <th>text</th>\n",
       "      <th>summary</th>\n",
       "    </tr>\n",
       "  </thead>\n",
       "  <tbody>\n",
       "    <tr>\n",
       "      <th>0</th>\n",
       "      <td>23</td>\n",
       "      <td>5</td>\n",
       "    </tr>\n",
       "    <tr>\n",
       "      <th>1</th>\n",
       "      <td>18</td>\n",
       "      <td>4</td>\n",
       "    </tr>\n",
       "    <tr>\n",
       "      <th>2</th>\n",
       "      <td>39</td>\n",
       "      <td>5</td>\n",
       "    </tr>\n",
       "    <tr>\n",
       "      <th>3</th>\n",
       "      <td>17</td>\n",
       "      <td>3</td>\n",
       "    </tr>\n",
       "    <tr>\n",
       "      <th>4</th>\n",
       "      <td>13</td>\n",
       "      <td>3</td>\n",
       "    </tr>\n",
       "  </tbody>\n",
       "</table>\n",
       "</div>"
      ],
      "text/plain": [
       "   text  summary\n",
       "0    23        5\n",
       "1    18        4\n",
       "2    39        5\n",
       "3    17        3\n",
       "4    13        3"
      ]
     },
     "execution_count": 19,
     "metadata": {},
     "output_type": "execute_result"
    }
   ],
   "source": [
    "length_df.head()"
   ]
  },
  {
   "cell_type": "code",
   "execution_count": 20,
   "metadata": {},
   "outputs": [],
   "source": [
    "#print({'text':text_word_count, 'summary':summary_word_count})"
   ]
  },
  {
   "cell_type": "code",
   "execution_count": 21,
   "metadata": {},
   "outputs": [
    {
     "data": {
      "image/png": "[encoded data removed]",
      "text/plain": [
       "<Figure size 432x288 with 2 Axes>"
      ]
     },
     "metadata": {
      "needs_background": "light"
     },
     "output_type": "display_data"
    }
   ],
   "source": [
    "length_df.hist(bins = 30)\n",
    "plt.show()"
   ]
  },
  {
   "cell_type": "code",
   "execution_count": 22,
   "metadata": {},
   "outputs": [],
   "source": [
    "max_len_text=80 \n",
    "max_len_summary=10"
   ]
  },
  {
   "cell_type": "code",
   "execution_count": 23,
   "metadata": {},
   "outputs": [],
   "source": [
    "from sklearn.model_selection import train_test_split\n",
    "x_tr,x_val,y_tr,y_val=train_test_split(data['cleaned_text'],data['cleaned_summary'],test_size=0.1,random_state=0,shuffle=True) "
   ]
  },
  {
   "cell_type": "code",
   "execution_count": 24,
   "metadata": {},
   "outputs": [
    {
     "data": {
      "text/plain": [
       "3256                                                                                   item awesome chocolate flavor would recommend product anyone looking hot chocolate keurig machine uses cups great product\n",
       "48476                                                                                                       work bar cup tea delicious held lunch later day great snack eat breakfast toss purse mid day munchie\n",
       "78065                                                 product evil combines dark chocolate macadamia nuts known people call elder gods whatever yog sothoth open gates guarantee constant supply nuggets yuggoth\n",
       "29079    nearby fresh easy grocery store small section premium soft drinks really good recently purchased pack izze sparkling blackberry assortment concentrated fruit juices dominated blackberry added carb...\n",
       "15364    agree review beware plant pictured anything like purchased desert rose dad fell love one photo description amazon shipping weight says lbs mine ups lbs totally disappointed paid shipping get deser...\n",
       "                                                                                                          ...                                                                                                   \n",
       "22008    bought item dog play smart get food initially like since entertaining dog however dog quickly chewed open rope time used think problem design great rope replaced better material get chewed immedia...\n",
       "49677                                                                                                             love usually eat one day alot alcohol sugar hard digestion system sensitive things like beware\n",
       "45709    really high hopes ginger lemon drink got digestive issues thought great something natural pills might taste better ginger herbal tea really marketed ginger first sip shocking good way taste incred...\n",
       "46981                                                                         love cravings place ooey gooey chocolatey chewy brownie mix easy make free common allergens right balance chewy cakelike delicious\n",
       "76058                                                                                   priced well good however wanted mini pecan pies would buy moon pie brand amazon look almost identical think taste better\n",
       "Name: cleaned_text, Length: 79516, dtype: object"
      ]
     },
     "execution_count": 24,
     "metadata": {},
     "output_type": "execute_result"
    }
   ],
   "source": [
    "(x_tr)"
   ]
  },
  {
   "cell_type": "code",
   "execution_count": 25,
   "metadata": {},
   "outputs": [],
   "source": [
    "x_tokenizer=Tokenizer()\n",
    "x_tokenizer.fit_on_texts(list(x_tr))"
   ]
  },
  {
   "cell_type": "code",
   "execution_count": 26,
   "metadata": {},
   "outputs": [],
   "source": [
    "#convert text sequences into integer sequences\n",
    "x_tr    =   x_tokenizer.texts_to_sequences(x_tr) \n",
    "x_val   =   x_tokenizer.texts_to_sequences(x_val)"
   ]
  },
  {
   "cell_type": "code",
   "execution_count": 27,
   "metadata": {},
   "outputs": [
    {
     "data": {
      "text/plain": [
       "[144,\n",
       " 185,\n",
       " 39,\n",
       " 10,\n",
       " 63,\n",
       " 2213,\n",
       " 612,\n",
       " 543,\n",
       " 56,\n",
       " 6,\n",
       " 102,\n",
       " 33,\n",
       " 295,\n",
       " 1794,\n",
       " 1563,\n",
       " 1684,\n",
       " 56,\n",
       " 11513]"
      ]
     },
     "execution_count": 27,
     "metadata": {},
     "output_type": "execute_result"
    }
   ],
   "source": [
    "x_tr[1]"
   ]
  },
  {
   "cell_type": "code",
   "execution_count": 28,
   "metadata": {},
   "outputs": [],
   "source": [
    "#padding zero upto maximum length\n",
    "x_tr    =   pad_sequences(x_tr,  maxlen=max_len_text, padding='post') \n",
    "x_val   =   pad_sequences(x_val, maxlen=max_len_text, padding='post')"
   ]
  },
  {
   "cell_type": "code",
   "execution_count": 29,
   "metadata": {},
   "outputs": [
    {
     "data": {
      "text/plain": [
       "array([  144,   185,    39,    10,    63,  2213,   612,   543,    56,\n",
       "           6,   102,    33,   295,  1794,  1563,  1684,    56, 11513,\n",
       "           0,     0,     0,     0,     0,     0,     0,     0,     0,\n",
       "           0,     0,     0,     0,     0,     0,     0,     0,     0,\n",
       "           0,     0,     0,     0,     0,     0,     0,     0,     0,\n",
       "           0,     0,     0,     0,     0,     0,     0,     0,     0,\n",
       "           0,     0,     0,     0,     0,     0,     0,     0,     0,\n",
       "           0,     0,     0,     0,     0,     0,     0,     0,     0,\n",
       "           0,     0,     0,     0,     0,     0,     0,     0],\n",
       "      dtype=int32)"
      ]
     },
     "execution_count": 29,
     "metadata": {},
     "output_type": "execute_result"
    }
   ],
   "source": [
    "x_tr[1]"
   ]
  },
  {
   "cell_type": "code",
   "execution_count": 30,
   "metadata": {},
   "outputs": [
    {
     "name": "stdout",
     "output_type": "stream",
     "text": [
      "51571\n"
     ]
    }
   ],
   "source": [
    "x_voc_size   =  len(x_tokenizer.word_index) +1\n",
    "print(x_voc_size)"
   ]
  },
  {
   "cell_type": "code",
   "execution_count": 31,
   "metadata": {},
   "outputs": [],
   "source": [
    "y_tokenizer = Tokenizer()\n",
    "y_tokenizer.fit_on_texts(list(y_tr))\n",
    "\n",
    "#convert summary sequences into integer sequences\n",
    "y_tr    =   y_tokenizer.texts_to_sequences(y_tr) \n",
    "y_val   =   y_tokenizer.texts_to_sequences(y_val) \n",
    "\n",
    "#padding zero upto maximum length\n",
    "y_tr    =   pad_sequences(y_tr, maxlen=max_len_summary, padding='post')\n",
    "y_val   =   pad_sequences(y_val, maxlen=max_len_summary, padding='post')\n",
    "\n",
    "y_voc_size  =   len(y_tokenizer.word_index) +1\n"
   ]
  },
  {
   "cell_type": "code",
   "execution_count": 32,
   "metadata": {},
   "outputs": [
    {
     "name": "stdout",
     "output_type": "stream",
     "text": [
      "14096\n"
     ]
    }
   ],
   "source": [
    "print(y_voc_size)"
   ]
  },
  {
   "cell_type": "code",
   "execution_count": 33,
   "metadata": {},
   "outputs": [
    {
     "name": "stdout",
     "output_type": "stream",
     "text": [
      "(None, 500)\n",
      "(None, 500)\n",
      "(None, 80, 1000)\n",
      "(None, 500)\n",
      "(None, 500)\n",
      "(None, 500)\n",
      "(None, 500)\n",
      "(None, 80, 1000)\n",
      "(None, 500)\n",
      "(None, 500)\n",
      "Model: \"model\"\n",
      "__________________________________________________________________________________________________\n",
      "Layer (type)                    Output Shape         Param #     Connected to                     \n",
      "==================================================================================================\n",
      "input_1 (InputLayer)            [(None, 80)]         0                                            \n",
      "__________________________________________________________________________________________________\n",
      "embedding (Embedding)           (None, 80, 500)      25785500    input_1[0][0]                    \n",
      "__________________________________________________________________________________________________\n",
      "enc_lstm1 (LSTM)                [(None, 80, 500), (N 2002000     embedding[0][0]                  \n",
      "__________________________________________________________________________________________________\n",
      "input_2 (InputLayer)            [(None, None)]       0                                            \n",
      "__________________________________________________________________________________________________\n",
      "bidirectional (Bidirectional)   [(None, 80, 1000), ( 4004000     enc_lstm1[0][0]                  \n",
      "__________________________________________________________________________________________________\n",
      "embedding_1 (Embedding)         (None, None, 500)    7048000     input_2[0][0]                    \n",
      "__________________________________________________________________________________________________\n",
      "bidirectional_1 (Bidirectional) [(None, 80, 1000), ( 6004000     bidirectional[0][0]              \n",
      "__________________________________________________________________________________________________\n",
      "dec_lstm1 (LSTM)                [(None, None, 500),  2002000     embedding_1[0][0]                \n",
      "                                                                 bidirectional_1[0][1]            \n",
      "                                                                 bidirectional_1[0][2]            \n",
      "__________________________________________________________________________________________________\n",
      "attention_layer (AttentionLayer ((None, None, 1000), 1501000     bidirectional_1[0][0]            \n",
      "                                                                 dec_lstm1[0][0]                  \n",
      "__________________________________________________________________________________________________\n",
      "concat_layer (Concatenate)      (None, None, 1500)   0           dec_lstm1[0][0]                  \n",
      "                                                                 attention_layer[0][0]            \n",
      "__________________________________________________________________________________________________\n",
      "time_distributed (TimeDistribut (None, None, 14096)  21158096    concat_layer[0][0]               \n",
      "==================================================================================================\n",
      "Total params: 69,504,596\n",
      "Trainable params: 69,504,596\n",
      "Non-trainable params: 0\n",
      "__________________________________________________________________________________________________\n"
     ]
    }
   ],
   "source": [
    "from tensorflow.keras import backend as K \n",
    "K.clear_session() \n",
    "latent_dim = 500 \n",
    "\n",
    "# Encoder \n",
    "encoder_inputs = Input(shape=(max_len_text,)) \n",
    "enc_emb = Embedding(x_voc_size, latent_dim,trainable=True)(encoder_inputs) \n",
    "\n",
    "#LSTM 1 \n",
    "encoder_lstm1 = (LSTM(latent_dim,return_sequences=True,return_state=True,name='enc_lstm1')) \n",
    "encoder_output1, state_h1, state_c1 = encoder_lstm1(enc_emb) \n",
    "\n",
    "#LSTM 2 \n",
    "encoder_lstm2 = Bidirectional(LSTM(latent_dim,return_sequences=True,return_state=True,name='enc_lstm2'),merge_mode='concat') \n",
    "encoder_output2, state_h2, state_c2,m,n = encoder_lstm2(encoder_output1) \n",
    "print(m.shape)\n",
    "print(n.shape)\n",
    "print(encoder_output2.shape)\n",
    "print(state_h2.shape)\n",
    "print(state_c2.shape)\n",
    "#LSTM 3 \n",
    "encoder_lstm3=Bidirectional(LSTM(latent_dim, return_state=True, return_sequences=True,name='enc_lstm3'),merge_mode='concat' )\n",
    "encoder_outputs, state_h, state_c,b,v= encoder_lstm3(encoder_output2) \n",
    "print(b.shape)\n",
    "print(v.shape)\n",
    "print(encoder_outputs.shape)\n",
    "print(state_h.shape)\n",
    "print(state_c.shape)\n",
    "# Set up the decoder. \n",
    "decoder_inputs = Input(shape=(None,)) \n",
    "dec_emb_layer = Embedding(y_voc_size, latent_dim,trainable=True) \n",
    "dec_emb = dec_emb_layer(decoder_inputs) \n",
    "\n",
    "#LSTM using encoder_states as initial state\n",
    "decoder_lstm = LSTM(latent_dim, return_sequences=True, return_state=True,name='dec_lstm1') \n",
    "decoder_outputs,decoder_fwd_state, decoder_back_state = decoder_lstm(dec_emb,initial_state=[state_h, state_c])#here dec  output is \n",
    "#an array of all the outputs together in one array of 2-dim each column representing an output of the sequence output.  \n",
    "\n",
    "#Attention Layer\n",
    "attn_layer = AttentionLayer(name='attention_layer') \n",
    "attn_out, attn_states = attn_layer([encoder_outputs, decoder_outputs]) \n",
    "\n",
    "# Concat attention output and decoder LSTM output \n",
    "decoder_concat_input = Concatenate(axis=-1, name='concat_layer')([decoder_outputs, attn_out])\n",
    "\n",
    "#Dense layer\n",
    "decoder_dense = TimeDistributed(Dense(y_voc_size, activation='softmax')) \n",
    "decoder_outputs = decoder_dense(decoder_concat_input) \n",
    "\n",
    "# Define the model\n",
    "model = Model([encoder_inputs, decoder_inputs], decoder_outputs) \n",
    "model.summary()"
   ]
  },
  {
   "cell_type": "code",
   "execution_count": 34,
   "metadata": {},
   "outputs": [
    {
     "data": {
      "image/png": "[encoded data removed]",
      "text/plain": [
       "<IPython.core.display.Image object>"
      ]
     },
     "execution_count": 34,
     "metadata": {},
     "output_type": "execute_result"
    }
   ],
   "source": [
    "#return_sequences: Boolean. Whether to return the last output in the output sequence, or the full sequence.\n",
    "#return_state: Boolean. Whether to return the last state in addition to the output. The returned elements of the states list are the hidden state and the cell state, respectively.\n",
    "from tensorflow.keras.utils import plot_model\n",
    "plot_model(model, to_file='model1.png')"
   ]
  },
  {
   "cell_type": "code",
   "execution_count": 35,
   "metadata": {},
   "outputs": [],
   "source": [
    "model.compile(optimizer='rmsprop', loss='sparse_categorical_crossentropy',metrics=['acc'])"
   ]
  },
  {
   "cell_type": "code",
   "execution_count": 36,
   "metadata": {},
   "outputs": [],
   "source": [
    "es = EarlyStopping(monitor='val_loss',mode='min', verbose=1)"
   ]
  },
  {
   "cell_type": "code",
   "execution_count": 37,
   "metadata": {},
   "outputs": [],
   "source": [
    "#history=model.fit(x_tr, y_tr ,epochs=50,callbacks=[es],batch_size=512)\n"
   ]
  },
  {
   "cell_type": "code",
   "execution_count": 38,
   "metadata": {},
   "outputs": [
    {
     "data": {
      "text/plain": [
       "(79516, 10)"
      ]
     },
     "execution_count": 38,
     "metadata": {},
     "output_type": "execute_result"
    }
   ],
   "source": [
    "y_tr.shape"
   ]
  },
  {
   "cell_type": "code",
   "execution_count": 39,
   "metadata": {},
   "outputs": [
    {
     "data": {
      "text/plain": [
       "(79516, 80)"
      ]
     },
     "execution_count": 39,
     "metadata": {},
     "output_type": "execute_result"
    }
   ],
   "source": [
    "x_tr.shape"
   ]
  },
  {
   "cell_type": "code",
   "execution_count": 40,
   "metadata": {},
   "outputs": [
    {
     "name": "stdout",
     "output_type": "stream",
     "text": [
      "Train on 63612 samples, validate on 15904 samples\n",
      "Epoch 1/15\n",
      "63612/63612 [==============================] - 177s 3ms/sample - loss: 3.2689 - acc: 0.5570 - val_loss: 2.9387 - val_acc: 0.5875\n",
      "Epoch 2/15\n",
      "63612/63612 [==============================] - 160s 3ms/sample - loss: 2.7573 - acc: 0.5983 - val_loss: 2.7154 - val_acc: 0.6034\n",
      "Epoch 3/15\n",
      "63612/63612 [==============================] - 159s 3ms/sample - loss: 2.5382 - acc: 0.6147 - val_loss: 2.5560 - val_acc: 0.6174\n",
      "Epoch 4/15\n",
      "63612/63612 [==============================] - 160s 3ms/sample - loss: 2.3802 - acc: 0.6271 - val_loss: 2.4676 - val_acc: 0.6239\n",
      "Epoch 5/15\n",
      "63612/63612 [==============================] - 160s 3ms/sample - loss: 2.2515 - acc: 0.6354 - val_loss: 2.4063 - val_acc: 0.6299\n",
      "Epoch 6/15\n",
      "63612/63612 [==============================] - 160s 3ms/sample - loss: 2.1393 - acc: 0.6428 - val_loss: 2.3823 - val_acc: 0.6331\n",
      "Epoch 7/15\n",
      "63612/63612 [==============================] - 160s 3ms/sample - loss: 2.0329 - acc: 0.6498 - val_loss: 2.3596 - val_acc: 0.6348\n",
      "Epoch 8/15\n",
      "63612/63612 [==============================] - 160s 3ms/sample - loss: 1.9273 - acc: 0.6567 - val_loss: 2.3511 - val_acc: 0.6360\n",
      "Epoch 9/15\n",
      "63612/63612 [==============================] - 160s 3ms/sample - loss: 1.8220 - acc: 0.6646 - val_loss: 2.3544 - val_acc: 0.6341\n",
      "Epoch 00009: early stopping\n"
     ]
    }
   ],
   "source": [
    "history=model.fit([x_tr,y_tr[:,:-1]], y_tr.reshape(y_tr.shape[0],y_tr.shape[1], 1)[:,1:] ,epochs=15,callbacks=[es],batch_size=512,validation_split=0.2)\n"
   ]
  },
  {
   "cell_type": "code",
   "execution_count": 41,
   "metadata": {},
   "outputs": [],
   "source": [
    "#y_tr,y_tr[:,:-1]# both of these are not same #difference is the size number of columns\n",
    "#np.shape(y_tr.reshape(y_tr.shape[0],y_tr.shape[1],1)) to predict one word at a time in the \n"
   ]
  },
  {
   "cell_type": "code",
   "execution_count": 42,
   "metadata": {},
   "outputs": [
    {
     "data": {
      "text/plain": [
       "((79516, 10), (79516, 9))"
      ]
     },
     "execution_count": 42,
     "metadata": {},
     "output_type": "execute_result"
    }
   ],
   "source": [
    "y_tr.shape,y_tr[:,:-1].shape"
   ]
  },
  {
   "cell_type": "code",
   "execution_count": 48,
   "metadata": {},
   "outputs": [
    {
     "data": {
      "image/png": "[encoded data removed]",
      "text/plain": [
       "<Figure size 432x288 with 1 Axes>"
      ]
     },
     "metadata": {
      "needs_background": "light"
     },
     "output_type": "display_data"
    }
   ],
   "source": [
    "#pip uninstall tensorflow\n",
    "plt.plot(history.history['loss'], label='train') \n",
    "plt.plot(history.history['val_loss'], label='test') \n",
    "#plt.xlim(0,2)\n",
    "plt.legend() \n",
    "plt.show()"
   ]
  },
  {
   "cell_type": "code",
   "execution_count": 44,
   "metadata": {},
   "outputs": [],
   "source": [
    "#pip install tensorflow==1.15"
   ]
  },
  {
   "cell_type": "code",
   "execution_count": 45,
   "metadata": {},
   "outputs": [
    {
     "data": {
      "image/png": "[encoded data removed]",
      "text/plain": [
       "<Figure size 432x288 with 1 Axes>"
      ]
     },
     "metadata": {
      "needs_background": "light"
     },
     "output_type": "display_data"
    }
   ],
   "source": [
    "#from matplotlib import pyplot \n",
    "plt.plot(history.history['acc']) \n",
    "plt.plot(history.history['val_acc']) \n",
    "#plt.xlim(0,2)\n",
    "plt.legend() \n",
    "plt.show()"
   ]
  },
  {
   "cell_type": "code",
   "execution_count": 46,
   "metadata": {},
   "outputs": [],
   "source": [
    "reverse_target_word_index=y_tokenizer.index_word #index_word and word_index are two dictionaries in the class\n",
    "reverse_source_word_index=x_tokenizer.index_word #initated for every object of the class in _init_ method.\n",
    "target_word_index=y_tokenizer.word_index #i guess these are the two reversed dictionary in terms of values, key"
   ]
  },
  {
   "cell_type": "code",
   "execution_count": 49,
   "metadata": {},
   "outputs": [],
   "source": [
    "# encoder inference\n",
    "encoder_model = Model(inputs=encoder_inputs,outputs=[encoder_outputs, state_h, state_c])\n",
    "\n",
    "# decoder inference\n",
    "# Below tensors will hold the states of the previous time step\n",
    "decoder_state_input_h = Input(shape=(latent_dim,),name='encoder_each_timestep_output')\n",
    "decoder_state_input_c = Input(shape=(latent_dim,),name='encoder_each_timestep_hiddenstate')\n",
    "decoder_hidden_state_input = Input(shape=(max_len_text,2*latent_dim),name='array_encoder_all_outputs')\n",
    "\n",
    "# Get the embeddings of the decoder sequence\n",
    "dec_emb2= dec_emb_layer(decoder_inputs)\n",
    "\n",
    "# To predict the next word in the sequence, set the initial states to the states from the previous time step\n",
    "decoder_outputs2, state_h2, state_c2 = decoder_lstm(dec_emb2, initial_state=[decoder_state_input_h, decoder_state_input_c])\n",
    "\n",
    "#attention inference\n",
    "attn_out_inf, attn_states_inf = attn_layer([decoder_hidden_state_input, decoder_outputs2])\n",
    "decoder_inf_concat = Concatenate(axis=-1, name='concat')([decoder_outputs2, attn_out_inf])\n",
    "\n",
    "# A dense softmax layer to generate prob dist. over the target vocabulary\n",
    "decoder_outputs2 = decoder_dense(decoder_inf_concat)\n",
    "\n",
    "# Final decoder model\n",
    "decoder_model = Model(\n",
    "[decoder_inputs] + [decoder_hidden_state_input,decoder_state_input_h, decoder_state_input_c],\n",
    "[decoder_outputs2] + [state_h2, state_c2])\n"
   ]
  },
  {
   "cell_type": "code",
   "execution_count": 50,
   "metadata": {},
   "outputs": [
    {
     "data": {
      "image/png": "[encoded data removed]",
      "text/plain": [
       "<IPython.core.display.Image object>"
      ]
     },
     "execution_count": 50,
     "metadata": {},
     "output_type": "execute_result"
    }
   ],
   "source": [
    "plot_model(encoder_model, to_file='encoder_model.png')\n"
   ]
  },
  {
   "cell_type": "code",
   "execution_count": 51,
   "metadata": {},
   "outputs": [
    {
     "data": {
      "image/png": "[encoded data removed]",
      "text/plain": [
       "<IPython.core.display.Image object>"
      ]
     },
     "execution_count": 51,
     "metadata": {},
     "output_type": "execute_result"
    }
   ],
   "source": [
    "plot_model(decoder_model,to_file='decoder_model.png')\n"
   ]
  },
  {
   "cell_type": "code",
   "execution_count": 52,
   "metadata": {},
   "outputs": [],
   "source": [
    "def decode_sequence(input_seq):\n",
    "    # Encode the input as state vectors.\n",
    "    e_out, e_h, e_c = encoder_model.predict(input_seq)\n",
    "\n",
    "    # Generate empty target sequence of length 1.\n",
    "    target_seq = np.zeros((1,1))\n",
    "   # print(target_seq)\n",
    "\n",
    "    # Chose the 'start' word as the first word of the target sequence\n",
    "    target_seq[0, 0] = target_word_index['start']#target sequence going to the embedding layer\n",
    "    #print(target_seq[0, 0])\n",
    "    #print(target_word_index['end'])\n",
    "    #print(reverse_target_word_index.items())\n",
    "    stop_condition = False\n",
    "    decoded_sentence = ''\n",
    "    while not stop_condition:\n",
    "        output_tokens, h, c = decoder_model.predict([target_seq] + [e_out, e_h, e_c])#encoder ouput is the decoder hidden state\n",
    "        #print(output_tokens.shape)#(1,1,14096)\n",
    "        # Sample a token\n",
    "        sampled_token_index = np.argmax(output_tokens[0, -1, :])\n",
    "        #print(sampled_token_index)\n",
    "\n",
    "        #print(sampled_token_index+1)\n",
    "        #j+=1\n",
    "        #if sampled_token_index !=0 :\n",
    "        sampled_token = reverse_target_word_index[sampled_token_index]# +1 is done as dictionary starts from 1 and output_tokens start from 0\n",
    "        #print(sampled_token)\n",
    "        #print(reverse_target_word_index.items())#there is no key 0 in dictionary\n",
    "        if(sampled_token!='end'):\n",
    "            decoded_sentence += ' '+sampled_token\n",
    "            # Exit condition: either hit max length or find stop word.\n",
    "        if (sampled_token == 'end' or len(decoded_sentence.split()) >= (max_len_summary-1)):\n",
    "             stop_condition = True\n",
    "                \n",
    "\n",
    "        # Update the target sequence (of length 1).\n",
    "        #target_seq = np.zeros((1,1))\n",
    "        target_seq[0, 0] = sampled_token_index\n",
    "\n",
    "        # Update internal states\n",
    "        e_h, e_c = h, c\n",
    "\n",
    "    return decoded_sentence\n"
   ]
  },
  {
   "cell_type": "code",
   "execution_count": 53,
   "metadata": {},
   "outputs": [],
   "source": [
    "def seq2summary(input_seq):\n",
    "    newString=''\n",
    "    for i in input_seq:\n",
    "        if((i!=0 and i!=target_word_index['start']) and i!=target_word_index['end']):\n",
    "            newString=newString+reverse_target_word_index[i]+' '\n",
    "    return newString\n",
    "\n",
    "def seq2text(input_seq):\n",
    "    newString=''\n",
    "    for i in input_seq:\n",
    "        if(i!=0):\n",
    "            newString=newString+reverse_source_word_index[i]+' '\n",
    "    return newString\n"
   ]
  },
  {
   "cell_type": "code",
   "execution_count": 63,
   "metadata": {},
   "outputs": [
    {
     "name": "stdout",
     "output_type": "stream",
     "text": [
      "Review: ordered salmon thursday january received january salmon delicious wooden box nice design used store items future \n",
      "Original summary: alaska smokehouse smoked salmon \n",
      "Predicted summary:  great product\n",
      "\n",
      "\n",
      "Review: drank cold could pleased coffee high quality arabica always notice coffee arabica robusta sweet without sweet mean cannot compare major bottled coffee brand reason alone keep fridge work offer people without looking like pushing calories along caffeine long time would stock highly sweetened coffee beverages fridge work noticed people stopped consuming happened around time lost interest level sweetness recommend drink prefer lower level sugar old school arabica coffee types \n",
      "Original summary: it was perfect little sweet without being too sweet \n",
      "Predicted summary:  love it\n",
      "\n",
      "\n",
      "Review: variety granola one ranks top favorites crunch granola coconut main taste sweet overly eat snack craving something fills fast satisfies sugar cravings \n",
      "Original summary: great taste \n",
      "Predicted summary:  great for protein bar\n",
      "\n",
      "\n",
      "Review: bought dollar tree yummy taste like french fries crunchy going buy bulk pass kid test \n",
      "Original summary: yum \n",
      "Predicted summary:  good stuff\n",
      "\n",
      "\n",
      "Review: used eating flaxseed brownie hodgson mill brownies super easy make taste great since like dark chocolate usually add little cocoa \n",
      "Original summary: delicious brownie \n",
      "Predicted summary:  great for kids\n",
      "\n",
      "\n",
      "Review: picked local grocery store organic brown rice pleasantly surprised cooks really well sticky tastes great typically brown rice lover kind really good kids husband ate asked seconds well delighted see amazon great price subscribe save \n",
      "Original summary: love this rice \n",
      "Predicted summary:  quick and easy\n",
      "\n",
      "\n",
      "Review: stuff oily probably could run car takes cup creamer make change black tan ick \n",
      "Original summary: yuk \n",
      "Predicted summary:  not the same as the coffee\n",
      "\n",
      "\n",
      "Review: good concentrate product packaging recyclable good taste rather unripe taste liking \n",
      "Original summary: good not so good \n",
      "Predicted summary:  not bad\n",
      "\n",
      "\n",
      "Review: cream instead compare office coffee cafe cube farm definitely matches taste quality easy quick mellow great idea soul wants cup coffee cannot bear brew one two lonely cups big disadvantage instant coffee far concerned serving product abut caffeine compared caffeine brewed cup coffee want caffeine flavored versions product even less caffeine per serving although could tell disadvantage suppose whole house fill sound fragrance brewing coffee choose instant alas still given convenience decency beverage buying little single sticks pretty regularly recommended \n",
      "Original summary: pleasant beverage convenient format \n",
      "Predicted summary:  not decaf\n",
      "\n",
      "\n",
      "Review: price right comparison local arts store steal color dark picture pastel red set pink anything reccomended measurement usage delivered bubble wrap package \n",
      "Original summary: red or pink \n",
      "Predicted summary:  good but not great\n",
      "\n",
      "\n",
      "Review: crumby grapes sweet enough wine good excuse press bad news things rediscovered many busy helping image culinary california australia everybody getting act thin flabby faux hitting shelves cute backbone courage heavy lifting kitchen might well pour lemonade grilled salmon acidic glory taste alone compare anything might run across vineyards make veritable next try gently fresh really ripe fruit loves swirled beurre blanc whip best cream roasting pan old time gravy nutmeg nice five pepper blend need steamed vegetables tell truth \n",
      "Original summary: the truth in \n",
      "Predicted summary:  ambrosia of this stuff\n",
      "\n",
      "\n",
      "Review: huge tea fan one favorites think taste subtle honey compliments well next time add lemon slices maybe orange slice yummy \n",
      "Original summary: very nice tea \n",
      "Predicted summary:  love this tea\n",
      "\n",
      "\n",
      "Review: price excellent heard many good things kind bars mango macadamia bar taste great would willing try flavors would buy flavor \n",
      "Original summary: they did not taste that great \n",
      "Predicted summary:  great product\n",
      "\n",
      "\n",
      "Review: used mcp pectin probably years making freezer jam jam always sets looks tastes perfect hard time finding mcp recently forced try another product making jam last summer jam set unhappy result thrilled find mcp amazon supply last couple years convinced mcp best wish could buy locally grocery store \n",
      "Original summary: mcp is the best \n",
      "Predicted summary:  best waffle mix ever\n",
      "\n",
      "\n",
      "Review: little guy ate could even write review \n",
      "Original summary: great deal \n",
      "Predicted summary:  not for me\n",
      "\n",
      "\n",
      "Review: like cashews way biased really enjoyed earn name salty though product need eat low sodium rest tasty treat \n",
      "Original summary: tasty treat \n",
      "Predicted summary:  good stuff\n",
      "\n",
      "\n",
      "Review: younger prone trying whatever new product came along various benefits seeking seldom ever payoff see advertisement product promising bigger better stronger even consider imagine surprise tried new shampoo actually noticed volume hair blow drying even two people asked would hair cut day used seriously miraculous change shampoo weave definitely makes noticeable difference negative comment fairly strong perfume scent tend avoid soaps shampoos absolutely continue use \n",
      "Original summary: unbelievable literally \n",
      "Predicted summary:  works for me\n",
      "\n",
      "\n",
      "Review: item allows convenience safe place emergency funds hides well pantry know whenever need \n",
      "Original summary: safe safe \n",
      "Predicted summary:  great product\n",
      "\n",
      "\n",
      "Review: mostly enjoyed paul newman donut shop ones one day saw count twenty bucks thought hmmm good deal must awful heck try best coffee ever tasted never see searched online hot simply poured ice hands favorite cannot drink constantly recommending people agree hooked also great environmentally packaged bet lack plastic makes taste better cannot lose drink two three cups day sip good first fact going make cup right san francisco bay coffee organic one cup keurig cup brewers rainforest blend count \n",
      "Original summary: best coffee ever \n",
      "Predicted summary:  not the best\n",
      "\n",
      "\n",
      "Review: love product fact become addictive time however noticed hard pieces chewing nuts examining closely think somehow shells got nuts shelled made careful bitterness otherwise wonderful flavor also want crack chip tooth hope isolated instance batch \n",
      "Original summary: emerald dry roasted walnuts review \n",
      "Predicted summary:  not the best\n",
      "\n",
      "\n",
      "Review: reading reviews decided purchase husband husband drinks tea every day prefers stronger blends like one used drink tips tried barry tea prefers barry looking nice strong basic tea look \n",
      "Original summary: my husband favorite everyday tea \n",
      "Predicted summary:  good tea\n",
      "\n",
      "\n",
      "Review: rich man peanut butter cap crunch poor man honey nut cheerios tastes like former looks like latter wife dug one evening hours later demolished peanut except artificial peanut flavor looking sugar brand names satisfy craving nom nom \n",
      "Original summary: sugary nut crunch \n",
      "Predicted summary:  peanut butter peanut butter\n",
      "\n",
      "\n",
      "Review: eat gluten free tried almost every type bar available pleasantly surprised got try bar moist delicious tasted like blueberry lemon cookie big bursts blueberries cannot wait try flavors thanks pamela making another great tasting product \n",
      "Original summary: thank goodness \n",
      "Predicted summary:  gluten free\n",
      "\n",
      "\n",
      "Review: great value cut hundreds training treats really works dog food motivated cut roll quarters freeze super easy \n",
      "Original summary: great value \n",
      "Predicted summary:  great training treat\n",
      "\n",
      "\n",
      "Review: tastes close regular boxed cake mix really good add cup cocoa powder make chocolate cake try adding lemon extract make lemon cake lots possibilities \n",
      "Original summary: great product \n",
      "Predicted summary:  great taste\n",
      "\n",
      "\n",
      "Review: give rating order make comment really like eden organic beans used many years usually purchased locally available however beans received online source date black beans expiration dates pinto beans expiration dates check dates open cooked one package beans thinking check date thought would even issue since ordering direct going mine old dates know use rest \n",
      "Original summary: supplier is shipping out of date product \n",
      "Predicted summary:  not bad but not bad\n",
      "\n",
      "\n",
      "Review: favorite coffee keurig coffeemaker convenient get amazon cheaper running around stores trying find lowest price \n",
      "Original summary: great coffee \n",
      "Predicted summary:  great coffee\n",
      "\n",
      "\n",
      "Review: seems stange item good tasty would disappear stock stores glad find amazon rate eat especially winter chili problem going thru bulk order pkgs thank amazon chi chi \n",
      "Original summary: mmmmmm good \n"
     ]
    },
    {
     "name": "stdout",
     "output_type": "stream",
     "text": [
      "Predicted summary:  love it\n",
      "\n",
      "\n",
      "Review: long time keurig user lifetime coffee drinker breakfast blend part plain cup coffee light smooth slight bitterness end still prefer donut shop light everyday coffee choice wanted try box green mountain probably purchase one house stopped said thats great cup coffee plain blah probably struggle finish box honestly \n",
      "Original summary: breakfast blend nothing special \n",
      "Predicted summary:  smooth and flavorful\n",
      "\n",
      "\n",
      "Review: even though sealed individual packages nice seems like retain freshness sticks got like shoe leather little taste would purchase think flavor since vaccummed sealed freshness also sticks get hard \n",
      "Original summary: needs to freshness longer gets like shoe leather \n",
      "Predicted summary:  good but not great\n",
      "\n",
      "\n",
      "Review: actually delivered two lbs bags box added bonus two spoons came box sure actually use overall favorite salt getting pound bags decided move lbs save money \n",
      "Original summary: good salt \n",
      "Predicted summary:  good stuff\n",
      "\n",
      "\n",
      "Review: brewing beer past five years along many others comes time pour glass never let even without using methods always develops tasty drink \n",
      "Original summary: just good beer \n",
      "Predicted summary:  great taste\n",
      "\n",
      "\n",
      "Review: love add coconut milk water make \n",
      "Original summary: yum yum \n",
      "Predicted summary:  great taste\n",
      "\n",
      "\n",
      "Review: busy buddy kibble nibble great toy dog tug jug within minutes gnawed challenge rope pieces maybe good older dog definitely vigorously chewing month old puppy \n",
      "Original summary: not for chewing puppies \n",
      "Predicted summary:  great toy\n",
      "\n",
      "\n",
      "Review: great cup strong bitter coffee fast free actually much expensive folgers better recommended \n",
      "Original summary: community coffee mmmm \n",
      "Predicted summary:  great coffee\n",
      "\n",
      "\n",
      "Review: grew using mustard brats hot dogs could always find new jersey grocery stores moved texas kosciusko brother ship moved kentucky kosciusko mustard get grocery items amazon never thought searching mustard hurray amazon buy case ship daughters texas california \n",
      "Original summary: love it \n",
      "Predicted summary:  great mustard\n",
      "\n",
      "\n",
      "Review: mallomars pure chocolate cookies delicious tasty chocolate inside equally tasty cream filling inside pour ice cold glass milk sit back try eat whole box one sitting brian fairbanks \n",
      "Original summary: delicious \n",
      "Predicted summary:  delicious\n",
      "\n",
      "\n",
      "Review: product appears bottle tiny looks like standard bottle picture fall picture without paying attention fluid size end paying dollars bottle normally sells dollars legal deceptive boycott \n",
      "Original summary: beware not oz jug \n",
      "Predicted summary:  not bad\n",
      "\n",
      "\n",
      "Review: chocolate deep rich delightful dark chocolate product \n",
      "Original summary: sinfully wonderful \n",
      "Predicted summary:  chocolate lover\n",
      "\n",
      "\n",
      "Review: product makes great gift cookies delicious tin attractive good quality highly recommended \n",
      "Original summary: great gift \n",
      "Predicted summary:  great product\n",
      "\n",
      "\n",
      "Review: really like product truly tides afternoon get really hungary keeps eating candy thing nutritious negative thing say wish flavors like maybe lemonade cherry etc think strawberry bananna except like banannas mix little lemon takes bananna flavor away thanks making great product \n",
      "Original summary: crystal light tide me over \n",
      "Predicted summary:  great substitute for sugar\n",
      "\n",
      "\n",
      "Review: stuff amazing seriously tastes great way better sugary red bull even sugar free contains natural sugar non funky fake stuff night drinking really helps rejuvenate give added energy well clear liquid bright pink light sweet taste nothing powering cannot find anywhere believe new product ordering multiple cans something want hand feeling little weather much drink night forced productive next day \n",
      "Original summary: miracle drink \n",
      "Predicted summary:  great product\n",
      "\n",
      "\n",
      "Review: organic usually prefer whatever blech cannot stand taste ended giving away going try another bag mention calories either bears calories take haribo please \n",
      "Original summary: taste terrible \n",
      "Predicted summary:  not bad\n",
      "\n",
      "\n",
      "Review: drawer fit perfectly real space saver right size holds coffee choices \n",
      "Original summary: wonderful space saver \n",
      "Predicted summary:  great coffee\n",
      "\n",
      "\n",
      "Review: used get local grocery store month baby girl prime shipping charges well taxes yay baby loves really cut spitting \n",
      "Original summary: simply awesom amazon carries this \n",
      "Predicted summary:  great product\n",
      "\n",
      "\n",
      "Review: delivered time day packaged well instructions fresh beautiful roses great color size \n",
      "Original summary: happy day \n",
      "Predicted summary:  great product\n",
      "\n",
      "\n",
      "Review: amnot never tea drinker morning equals black caffed coffee however teas created equal drinking cups tips day occasional teaspoon honey great tasting tea tart bitter aftertaste still drink coffee eating dedicated tips drinker care taste tea try may change mind tata \n",
      "Original summary: good tea \n",
      "Predicted summary:  great tea\n",
      "\n",
      "\n",
      "Review: signed subscription hoping bad reviews shipping taste great always one boxes damaged shipping leaked laundry room contacted retailer get replaced mopped mess made mental note cancel subscription order smaller size wish would address shipping packing problem mentioned site whomever making executive decisions packing shipping needs come better plan customers elsewhere \n",
      "Original summary: tastes great but packaging needs improvement \n",
      "Predicted summary:  not bad but not great\n",
      "\n",
      "\n",
      "Review: looking natural product syrup artificial flavors contains red taste smell like rose felt smelled like unilever ponds face cream \n",
      "Original summary: not so good \n",
      "Predicted summary:  not bad\n",
      "\n",
      "\n",
      "Review: chocolate fanatic chips awesome everybody tastes love perfect combination sweet salty crunchy \n",
      "Original summary: the best chips ever \n",
      "Predicted summary:  great tasting\n",
      "\n",
      "\n",
      "Review: illy issimo coffee drink caff little bitter taste frankly expected chilled coffee even sugar bitter taste still lingers taper actually added bit cream sugar made bearable canned variety obviously geared people plainly love espresso also pricey side something would drinking daily basis \n",
      "Original summary: for my taste not what expected of chilled coffee \n",
      "Predicted summary:  not bad\n",
      "\n",
      "\n",
      "Review: tea house love peachy taste ginger subtle cup every evening put soothing touch day got pack would never run tried ones next wanted make sure enough one \n",
      "Original summary: love it \n",
      "Predicted summary:  great tea\n",
      "\n",
      "\n",
      "Review: golden retriever tender stomach since puppy many episodes diarrhea vomiting thorough checkout vet revealed causes food intolerance went many different brands would always eventually become intolerant years ago found nature variety prairie problem solved aussie loves subscribing save quite bit per bag compared buying pet supply shops \n",
      "Original summary: great for dogs with tender stomachs \n",
      "Predicted summary:  great for the money\n",
      "\n",
      "\n",
      "Review: tell anybody sugar secret worlds best chocolate chip cookies use favorite recipe watch everybody struggle figure makes awsome \n",
      "Original summary: it secret \n",
      "Predicted summary:  great for baking\n",
      "\n",
      "\n",
      "Review: new favorite lunch imagine surprise opened package see brown brick looking back pour water suddenly delicious miso soup mean delicious tofu seaweed green onions fried tofu tastes great fills \n",
      "Original summary: super tasty fast easy low calorie \n",
      "Predicted summary:  delicious\n",
      "\n",
      "\n",
      "Review: standing order crackers long time however latest batches lacking usual amount sesame seeds lacking usual great taste husband change brands unless corrected \n",
      "Original summary: latest batches not so tasty \n",
      "Predicted summary:  not bad\n",
      "\n",
      "\n",
      "Review: know acquired taste like ones plain cheese salty low carbohydrate low calorie snack provide good crunch taste like cheese \n",
      "Original summary: good low carb snack \n",
      "Predicted summary:  good stuff\n",
      "\n",
      "\n",
      "Review: vita coco different taste would normally expect coconut juice buy amy brian brand compare two see vita coco sweet flowery aroma vita coco uses coconuts harvested brazil amy brian use coconuts harvested thailand especially like vita coco though taste refreshing non distracting feel like drink day amy brian brand sweeter syrupy drink occasion \n",
      "Original summary: so refreshing \n",
      "Predicted summary:  good tasting coconut water\n",
      "\n",
      "\n",
      "Review: used think kona coffee best tasting coffee ever tried rising ridiculous prices aloha island kona coffees led reach better taste lower prices found wolfgang puck blends coffee great bold non acidic flavor never worry lingering bad aftertaste excellent pricing \n",
      "Original summary: former aloha island coffee drinker \n",
      "Predicted summary:  good coffee\n",
      "\n",
      "\n",
      "Review: like nothing unique flavor basically saves make home little pricey treat heck \n",
      "Original summary: tasted ok bit overpriced tho \n"
     ]
    },
    {
     "name": "stdout",
     "output_type": "stream",
     "text": [
      "Predicted summary:  good stuff\n",
      "\n",
      "\n",
      "Review: hour energy like dream come true working spouse manager feet thirteen hours day gets extremely exhausting agreed receiving sample smiley online exchange opinions first line try impressed contained along folic acid small amount caffeine husband tried hour energy full day work hopes able stay awake watch baseball game surprized give hours energy hour energy also dietary supplement health education act fda \n",
      "Original summary: the energy booster with no sugar only calories \n",
      "Predicted summary:  works well for me\n",
      "\n",
      "\n",
      "Review: happy recieved order cookies melted good product word advise buy products summer time melt \n",
      "Original summary: bahlsen cookies \n",
      "Predicted summary:  not as described\n",
      "\n",
      "\n",
      "Review: agree reviewer think cereal marshmallows gross never liked teddy grahams much anyway \n",
      "Original summary: fake and gross \n",
      "Predicted summary:  not bad\n",
      "\n",
      "\n",
      "Review: regular grocery store honey dark deep molasses flavor delicious anything would add honey like coffee \n",
      "Original summary: dark and delicious \n",
      "Predicted summary:  delicious\n",
      "\n",
      "\n",
      "Review: ramen think ever going use flavor packets eat noodles pick different flavor ramen recommend creamy chicken quite delicious \n",
      "Original summary: edible but weird \n",
      "Predicted summary:  good stuff\n",
      "\n",
      "\n",
      "Review: lab charged steps around claimed motor homes couch commenced took till clean mess move critters shower stall never never neighbor hood mongrel thank god carpet cleaner attachments loving pets stainless litter dish puppy bowl inch liquid replacer puppies dogs cans case midwest black coat exercise pen inches inches dog house item cut top plastic pains ventilation puppys use easy remove roof hose debris nest offer neighbor hood take one puppy free throw everything else listed including puppys snicker snicker snicker \n",
      "Original summary: \n",
      "Predicted summary:  worked for me\n",
      "\n",
      "\n",
      "Review: work nights often anything eat keep one locker need bowl plate need opener easy open lid microwave cover clean microwave bubbles one delicious add water line dinner done \n",
      "Original summary: great for supper at work \n",
      "Predicted summary:  great for the go\n",
      "\n",
      "\n",
      "Review: slightly different version different brand son started using around six months really enjoys get messy eats something sticky juicy like banana watermelon whatever anyway also trouble cleaning tried scrubbing nail vegetable brush works pretty well takes time much would take run food food mill blender cut clean chair floor dog well get picture \n",
      "Original summary: great for eating whole foods clean with veggie brush \n",
      "Predicted summary:  great for the price\n",
      "\n",
      "\n",
      "Review: surprisingly delicious bright full bodied bought whole beans entire kitchen smells divine grind subscribed auto ship saved nice bonus \n",
      "Original summary: great coffee subscribe to auto ship and save \n",
      "Predicted summary:  great flavor\n",
      "\n",
      "\n",
      "Review: best chips ever sure beat anything else even cooked way better name brands tangy crisp satisfy craving time chips buy thank amazon letting buy online bulk save money time \n",
      "Original summary: these are awesome \n",
      "Predicted summary:  great chips\n",
      "\n",
      "\n",
      "Review: supermarket frosting handle two nine inch layers well need less flavor intense favorite uses chocolate schmear topping boston cream cake donuts filling chocolate croissants makes incredible homemade tasting version grown hostess chocolate cupcake add little fresh whipped cream filling homemade chocolate cupcake top slightly warmed thin layer schmear yum found exceptionally perfect choice recipes proper flavor texture balance far beyond regular supermarket frosting could use virtually recipe calling chocolate ganache frosting fudge glaze made hometown brooklyn pleased purchase highly recommended \n",
      "Original summary: dark chocolate perfection \n",
      "Predicted summary:  excellent chocolates\n",
      "\n",
      "\n",
      "Review: tried puroast low acid french roast coffee really liked taste smoothness coffee fact low acid enabled second cup coffee without experiencing discomfort stomach would regular coffee starbucks house blend really good news since love coffee someone suffers stomach ulcers one cup coffee limit also side side taste comparison usual starbucks puroast low acid coffee came top finally found coffee satisfies taste buds without aggravating ulcers second cup coffee without pain \n",
      "Original summary: can have second cup \n",
      "Predicted summary:  good coffee\n",
      "\n",
      "\n",
      "Review: glad see amazon many products suppliers nice products delivered right house getting ready order additional mouths feed house \n",
      "Original summary: as advertised great option vs retail stores \n",
      "Predicted summary:  great product\n",
      "\n",
      "\n",
      "Review: picked store reading mixed reviews online diet low calorie sugars carbs missing lot foods per usual hoping would mix well pick see runny con book flavors pretty spot added extra seasoning like cayenne paprika pinch salt possibly cooking would make bit thicker expecting awesome hearty bbq sauce good substitute definitely finishing bottle would buy \n",
      "Original summary: welcome taste relief in my diet \n",
      "Predicted summary:  good stuff\n",
      "\n",
      "\n",
      "Review: good basic tea start everyday cup bergamont helpful reduce anxiety lower cholesterol protect brain double good thing get auto ship never run save \n",
      "Original summary: great tea \n",
      "Predicted summary:  love this tea\n",
      "\n",
      "\n",
      "Review: products organic european like tasty buy individual bars many stores amazon price identical know saving money except sales tax \n",
      "Original summary: great chocolate price not so great \n",
      "Predicted summary:  great product\n",
      "\n",
      "\n",
      "Review: woofed chef michael grilled sirloin dry dog food hunted around bowl possible spilled nuggets knew hit sat begged bravo hands guess love purina brand trust nuf said purina include handy zip lock particular bag would plus know mean hunt around one gigantic potato chip bag clips biggie bag pounder probably eaten lot sooner gigantic bag food chef michael grilled sirloin dry dog food sound like may looking dog food buy pound bag last long know mean highly recommended katharena eiermann \n",
      "Original summary: okay into my shopping it goes \n",
      "Predicted summary:  good food for dogs\n",
      "\n",
      "\n",
      "Review: never used canned chicken cannot compare brands buy even though organic healthiest canned chicken find anywhere yes fall apart teeny bits reviewer pointed however really nice rich flavor hate handling raw chicken much find little cans right thing want make white chicken chili chicken noodle soup want bit meat toss veggie stir fry right end use imagine brand organic free range chicken broth combination broth chicken tasty indeed \n",
      "Original summary: bit pricey but really handy \n",
      "Predicted summary:  quick and easy\n",
      "\n",
      "\n",
      "Review: price close found priced stores best flavor money appreciative amazon makes available \n",
      "Original summary: great buy \n",
      "Predicted summary:  good price\n",
      "\n",
      "\n",
      "Review: best beer sausages come across decades taste like old time sausages used get bars younger wont take word ask friends \n",
      "Original summary: the best \n",
      "Predicted summary:  great taste\n",
      "\n",
      "\n",
      "Review: say stinger waffles best energy snack come market years love things cycle fact flat make really easy carry jersey pocket huge amounts calories definitely help keep going long workout taste good keep around regular snacks even exercising downsides vanilla flavor little stronger like bad packages easiest open usually open stopped ride \n",
      "Original summary: great snack for exercise or not \n",
      "Predicted summary:  great for the kids\n",
      "\n",
      "\n",
      "Review: tried alternative kashi honey almond flax bars love almost much roasted almond crunch bars possible would like tail mix bars middle long strenuous hike could months test simply put much sweet tooth overly sweet mid afternoon snack office however trying without much satisfaction found solution help get bars rather ship back bought candied ginger trader joe heat ginger plus almonds perfect foil \n",
      "Original summary: too sweet for my taste \n",
      "Predicted summary:  love this cereal\n",
      "\n",
      "\n",
      "Review: boston tea provides best tasting tea found several flavors hand office tea drinkers started one drinking making cup pots day far peach passion favorite kitchen smells peaches make one good signing auto delivery like peaches tea blend side note add tablespoon quality black tea tablespoons peach passion also brew twice still get full flavor \n",
      "Original summary: an office favorite \n"
     ]
    },
    {
     "name": "stdout",
     "output_type": "stream",
     "text": [
      "Predicted summary:  love this tea\n",
      "\n",
      "\n",
      "Review: pack time exactly ordered love kona blend thank goodness able find amazon since shortage get lasts \n",
      "Original summary: on time exactly as ordered \n",
      "Predicted summary:  great coffee\n",
      "\n",
      "\n",
      "Review: nope let talk honey roasted peanuts cocktail peanuts cashews pistachios even mixed nuts crave high protein snack reach redskins planters spanish peanuts little red goobers delicious even better scarf handfuls waistline explode redskins perfect addition parties get togethers better way watch sporting event munch spanish name planters know going getting quality freshness hunkering wholesome salty snack look peanut sporting cane planters spanish peanuts nutty mikels esq \n",
      "Original summary: am nut job \n",
      "Predicted summary:  delicious and healthy\n",
      "\n",
      "\n",
      "Review: one siberian eat anything including small horse fit dog mouth siberian princess licks licks full usually quickly happy dogs liked treats unfortunately diarrhea next day high back door pretty fast several times afternoon thing different diet unless got hold neighborhood toddler know hate give treat bad review know people work hard make good product one sat around said well makes dogs barf rolling money hahahahahaha speak truth truth appear given dogs pretty awful diarrhea sorry eat though die stars \n",
      "Original summary: my dog ate it but \n",
      "Predicted summary:  great for dogs with allergies\n",
      "\n",
      "\n",
      "Review: crazy soft spot chuckles know darn well one favorites kid cannot resist package even today love cherry flavored wish would introduce red package chuckles tip chuckles lovers freeze last lot longer way well complimented favorite non caloric beverage god bless chuckles \n",
      "Original summary: old fashioned classic \n",
      "Predicted summary:  love it\n",
      "\n",
      "\n",
      "Review: pediatrician told include form meat dinner baby unfortunately two four varieties include meat think summer vegetable included dinner variety pack vegetable variety pack also chicken sweet potato extremely runny hard feed baby \n",
      "Original summary: just okay \n",
      "Predicted summary:  good food for the price\n",
      "\n",
      "\n"
     ]
    }
   ],
   "source": [
    "for i in range(int(len(x_val)/100)):\n",
    "    print(\"Review:\",seq2text(x_val[i]))\n",
    "    print(\"Original summary:\",seq2summary(y_val[i]))\n",
    "    print(\"Predicted summary:\",decode_sequence(x_val[i].reshape(1,max_len_text)))\n",
    "    print(\"\\n\")"
   ]
  },
  {
   "cell_type": "code",
   "execution_count": null,
   "metadata": {},
   "outputs": [],
   "source": [
    "x_val[0].reshape(1,max_len_text).shape\n"
   ]
  },
  {
   "cell_type": "code",
   "execution_count": null,
   "metadata": {},
   "outputs": [],
   "source": [
    "x_val[0].shape"
   ]
  },
  {
   "cell_type": "code",
   "execution_count": null,
   "metadata": {},
   "outputs": [],
   "source": [
    "x_val.shape"
   ]
  },
  {
   "cell_type": "code",
   "execution_count": null,
   "metadata": {},
   "outputs": [],
   "source": [
    "# serialize model to JSON\n",
    "model_json = model.to_json()\n",
    "with open(\"summarization_model.json\", \"w\") as json_file:\n",
    "    json_file.write(model_json)\n",
    "# serialize weights to HDF5\n",
    "model.save_weights(\"summarization_model.h5\")\n",
    "print(\"Saved model to disk\")"
   ]
  },
  {
   "cell_type": "code",
   "execution_count": 60,
   "metadata": {},
   "outputs": [
    {
     "name": "stdout",
     "output_type": "stream",
     "text": [
      "Review: loving illy issimo coffee drink cappucino ounce cans expected like however tastes like mediocre slightly bitter espresso watered poured says sweetened beet sugar taste sweetness husband could even finish one offered husband could finish either love fresh brewed coffee become coffee snobs recently caring starbucks chain coffees like used expected brand measure expectations especially cappuccino fell miserably short \n",
      "Original summary: eh only okay for coffee not worth the price \n",
      "Predicted summary:  not bad\n",
      "\n",
      "\n"
     ]
    }
   ],
   "source": [
    "print(\"Review:\",seq2text(x_val[1010]))\n",
    "print(\"Original summary:\",seq2summary(y_val[1010]))\n",
    "print(\"Predicted summary:\",decode_sequence(x_val[1010].reshape(1,max_len_text)))\n",
    "print(\"\\n\")"
   ]
  },
  {
   "cell_type": "code",
   "execution_count": null,
   "metadata": {},
   "outputs": [],
   "source": [
    "# serialize model to JSON\n",
    "model_json = decoder_model.to_json()\n",
    "with open(\"decoder_model_f.json\", \"w\") as json_file:\n",
    "    json_file.write(model_json)\n",
    "# serialize weights to HDF5\n",
    "decoder_model.save_weights(\"decoder_model_f.h5\")\n",
    "print(\"Saved model to disk\")"
   ]
  },
  {
   "cell_type": "code",
   "execution_count": null,
   "metadata": {},
   "outputs": [],
   "source": [
    "# serialize model to JSON\n",
    "model_json = encoder_model.to_json()\n",
    "with open(\"encoder_model_f.json\", \"w\") as json_file:\n",
    "    json_file.write(model_json)\n",
    "# serialize weights to HDF5\n",
    "encoder_model.save_weights(\"encoder_model_f.h5\")\n",
    "print(\"Saved model to disk\")"
   ]
  },
  {
   "cell_type": "code",
   "execution_count": null,
   "metadata": {},
   "outputs": [],
   "source": [
    "tex='this is amazing but i hate it so what it is guess'"
   ]
  }
 ],
 "metadata": {
  "kernelspec": {
   "display_name": "Python 3",
   "language": "python",
   "name": "python3"
  },
  "language_info": {
   "codemirror_mode": {
    "name": "ipython",
    "version": 3
   },
   "file_extension": ".py",
   "mimetype": "text/x-python",
   "name": "python",
   "nbconvert_exporter": "python",
   "pygments_lexer": "ipython3",
   "version": "3.5.2"
  }
 },
 "nbformat": 4,
 "nbformat_minor": 1
}
