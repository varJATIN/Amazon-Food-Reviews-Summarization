{
  "nbformat": 4,
  "nbformat_minor": 0,
  "metadata": {
    "colab": {
      "name": "Binary classification.ipynb",
      "provenance": [],
      "authorship_tag": "ABX9TyNHA+Y7wa+MrwmRvXPA/9tS",
      "include_colab_link": true
    },
    "kernelspec": {
      "name": "python3",
      "display_name": "Python 3"
    },
    "language_info": {
      "name": "python"
    },
    "accelerator": "GPU"
  },
  "cells": [
    {
      "cell_type": "markdown",
      "metadata": {
        "id": "view-in-github",
        "colab_type": "text"
      },
      "source": [
        "<a href=\"https://colab.research.google.com/github/varJATIN/Amazon-Food-Reviews-Summarization/blob/master/Binary_classification.ipynb\" target=\"_parent\"><img src=\"https://colab.research.google.com/assets/colab-badge.svg\" alt=\"Open In Colab\"/></a>"
      ]
    },
    {
      "cell_type": "code",
      "metadata": {
        "colab": {
          "base_uri": "https://localhost:8080/"
        },
        "id": "TiJb1zKrpTmp",
        "outputId": "9c915fd1-ddb6-4f6c-fb31-917fe45dca04"
      },
      "source": [
        "from google.colab import drive\n",
        "drive.mount('/content/drive')"
      ],
      "execution_count": 1,
      "outputs": [
        {
          "output_type": "stream",
          "text": [
            "Mounted at /content/drive\n"
          ],
          "name": "stdout"
        }
      ]
    },
    {
      "cell_type": "code",
      "metadata": {
        "id": "Hx9B7qfYehes"
      },
      "source": [
        "import os\n",
        "import sys\n",
        "import random\n",
        "import IPython\n",
        "\n",
        "from sklearn.utils import shuffle\n",
        "from sklearn.model_selection import train_test_split\n",
        "\n",
        "import numpy as np\n",
        "import pandas as pd\n",
        "import cv2\n",
        "import matplotlib.pyplot as plt\n",
        "from matplotlib.pyplot import imread\n",
        "\n",
        "import tensorflow as tf\n",
        "from tensorflow import keras\n",
        "\n",
        "from sklearn.utils import shuffle\n",
        "from sklearn.datasets import make_classification\n",
        "from sklearn.metrics import plot_confusion_matrix,confusion_matrix\n",
        "\n",
        "from matplotlib.pyplot import imread\n",
        "from cv2 import resize\n",
        "\n",
        "from keras import layers\n",
        "from keras.layers import Input, Add, Dense, Activation, ZeroPadding2D, BatchNormalization, Flatten, Conv2D, AveragePooling2D, MaxPooling2D, Dropout\n",
        "from keras.models import Model, load_model\n",
        "from keras.preprocessing import image\n",
        "from keras.utils import layer_utils\n",
        "from keras.utils.data_utils import get_file\n",
        "from keras.applications.imagenet_utils import preprocess_input\n",
        "import pydot\n",
        "from keras.utils.vis_utils import model_to_dot\n",
        "from keras.utils import plot_model\n",
        "from sklearn.preprocessing import OneHotEncoder\n",
        "\n",
        "from keras.initializers import glorot_uniform\n",
        "import scipy.misc\n",
        "from matplotlib.pyplot import imshow\n",
        "\n",
        "random.seed = 2\n",
        "#np.random.seed = 2\n",
        "tf.seed = 2\n",
        "tf.random.set_seed(2)"
      ],
      "execution_count": 2,
      "outputs": []
    },
    {
      "cell_type": "code",
      "metadata": {
        "colab": {
          "base_uri": "https://localhost:8080/",
          "height": 197
        },
        "id": "GYG0tYzEpWEw",
        "outputId": "4114a80b-8478-45b2-f69a-d1d162e2aceb"
      },
      "source": [
        "dataset_images_location = \"/content/drive/My Drive/IDRid/B. Disease Grading/1. Original Images/a. Training Set\"\n",
        "dataset_groundtruth_location = \"/content/drive/MyDrive/IDRid/B. Disease Grading/2. Groundtruths/a. IDRiD_Disease Grading_Training Labels.csv\"\n",
        "\n",
        "df = pd.read_csv(dataset_groundtruth_location)\n",
        "df_ = pd.DataFrame();\n",
        "df_['Image name'] = df['Image name']\n",
        "\n",
        "df_['Retinopathy grade'] = df['Retinopathy grade']\n",
        "df_['Diseased']=[0 if df_['Retinopathy grade'][i]<1 else 1 for i in range(len(df_)) ]\n",
        "train_df, val_df = train_test_split(df_, test_size = 0.15, random_state = 25);\n",
        "train_df.head()"
      ],
      "execution_count": 3,
      "outputs": [
        {
          "output_type": "execute_result",
          "data": {
            "text/html": [
              "<div>\n",
              "<style scoped>\n",
              "    .dataframe tbody tr th:only-of-type {\n",
              "        vertical-align: middle;\n",
              "    }\n",
              "\n",
              "    .dataframe tbody tr th {\n",
              "        vertical-align: top;\n",
              "    }\n",
              "\n",
              "    .dataframe thead th {\n",
              "        text-align: right;\n",
              "    }\n",
              "</style>\n",
              "<table border=\"1\" class=\"dataframe\">\n",
              "  <thead>\n",
              "    <tr style=\"text-align: right;\">\n",
              "      <th></th>\n",
              "      <th>Image name</th>\n",
              "      <th>Retinopathy grade</th>\n",
              "      <th>Diseased</th>\n",
              "    </tr>\n",
              "  </thead>\n",
              "  <tbody>\n",
              "    <tr>\n",
              "      <th>72</th>\n",
              "      <td>IDRiD_073</td>\n",
              "      <td>2</td>\n",
              "      <td>1</td>\n",
              "    </tr>\n",
              "    <tr>\n",
              "      <th>256</th>\n",
              "      <td>IDRiD_257</td>\n",
              "      <td>0</td>\n",
              "      <td>0</td>\n",
              "    </tr>\n",
              "    <tr>\n",
              "      <th>290</th>\n",
              "      <td>IDRiD_291</td>\n",
              "      <td>1</td>\n",
              "      <td>1</td>\n",
              "    </tr>\n",
              "    <tr>\n",
              "      <th>311</th>\n",
              "      <td>IDRiD_312</td>\n",
              "      <td>0</td>\n",
              "      <td>0</td>\n",
              "    </tr>\n",
              "    <tr>\n",
              "      <th>389</th>\n",
              "      <td>IDRiD_390</td>\n",
              "      <td>4</td>\n",
              "      <td>1</td>\n",
              "    </tr>\n",
              "  </tbody>\n",
              "</table>\n",
              "</div>"
            ],
            "text/plain": [
              "    Image name  Retinopathy grade  Diseased\n",
              "72   IDRiD_073                  2         1\n",
              "256  IDRiD_257                  0         0\n",
              "290  IDRiD_291                  1         1\n",
              "311  IDRiD_312                  0         0\n",
              "389  IDRiD_390                  4         1"
            ]
          },
          "metadata": {
            "tags": []
          },
          "execution_count": 3
        }
      ]
    },
    {
      "cell_type": "code",
      "metadata": {
        "colab": {
          "base_uri": "https://localhost:8080/",
          "height": 283
        },
        "id": "mvAzheCtpoNd",
        "outputId": "bec402de-3166-44ce-a2f0-5144ffd97ad3"
      },
      "source": [
        "df_['Diseased'].hist()"
      ],
      "execution_count": 4,
      "outputs": [
        {
          "output_type": "execute_result",
          "data": {
            "text/plain": [
              "<matplotlib.axes._subplots.AxesSubplot at 0x7f882e612750>"
            ]
          },
          "metadata": {
            "tags": []
          },
          "execution_count": 4
        },
        {
          "output_type": "display_data",
          "data": {
            "image/png": "[encoded data removed]",
            "text/plain": [
              "<Figure size 432x288 with 1 Axes>"
            ]
          },
          "metadata": {
            "tags": [],
            "needs_background": "light"
          }
        }
      ]
    },
    {
      "cell_type": "code",
      "metadata": {
        "colab": {
          "base_uri": "https://localhost:8080/",
          "height": 283
        },
        "id": "LB-g7vRXpaYn",
        "outputId": "a4915dbc-05d7-4829-d1cf-fccd5a544282"
      },
      "source": [
        "val_df['Diseased'].hist()"
      ],
      "execution_count": 5,
      "outputs": [
        {
          "output_type": "execute_result",
          "data": {
            "text/plain": [
              "<matplotlib.axes._subplots.AxesSubplot at 0x7f882e0ba390>"
            ]
          },
          "metadata": {
            "tags": []
          },
          "execution_count": 5
        },
        {
          "output_type": "display_data",
          "data": {
            "image/png": "[encoded data removed]",
            "text/plain": [
              "<Figure size 432x288 with 1 Axes>"
            ]
          },
          "metadata": {
            "tags": [],
            "needs_background": "light"
          }
        }
      ]
    },
    {
      "cell_type": "code",
      "metadata": {
        "colab": {
          "base_uri": "https://localhost:8080/",
          "height": 358
        },
        "id": "FWd-DgnGpg0M",
        "outputId": "74b2d745-6e91-459a-f327-55b9c3e3392f"
      },
      "source": [
        "def balance_data(class_size, df):\n",
        "    train_df = df.groupby(['Diseased']).apply(lambda x: x.sample(class_size, replace = True)).reset_index(drop = True)\n",
        "    train_df = train_df.sample(frac=1).reset_index(drop=True)\n",
        "    print('New Data Size:', train_df.shape[0], 'Old Size:', df.shape[0])\n",
        "    train_df['Diseased'].hist(figsize = (10, 5))\n",
        "    return train_df\n",
        "\n",
        "train_df = balance_data(train_df.pivot_table(index='Diseased', aggfunc=len).max().max(),train_df) # I will oversample such that all classes have the same number of images as the maximum\n",
        "train_df['Diseased'].hist(figsize = (10, 5))"
      ],
      "execution_count": 6,
      "outputs": [
        {
          "output_type": "stream",
          "text": [
            "New Data Size: 478 Old Size: 351\n"
          ],
          "name": "stdout"
        },
        {
          "output_type": "execute_result",
          "data": {
            "text/plain": [
              "<matplotlib.axes._subplots.AxesSubplot at 0x7f882e056650>"
            ]
          },
          "metadata": {
            "tags": []
          },
          "execution_count": 6
        },
        {
          "output_type": "display_data",
          "data": {
            "image/png": "[encoded data removed]",
            "text/plain": [
              "<Figure size 720x360 with 1 Axes>"
            ]
          },
          "metadata": {
            "tags": [],
            "needs_background": "light"
          }
        }
      ]
    },
    {
      "cell_type": "code",
      "metadata": {
        "colab": {
          "base_uri": "https://localhost:8080/"
        },
        "id": "Ed2SjKOOql8X",
        "outputId": "b8dd48d6-8eb8-4d18-920e-a7cf3c9bafeb"
      },
      "source": [
        "image_names = train_df['Image name'];\n",
        "im_size = 224;\n",
        "\n",
        "train_labels = [];\n",
        "for label in train_df['Diseased']:\n",
        "    for i in range(2): # 2 times for data augmentation\n",
        "      train_labels.append(label)\n",
        "\n",
        "print(\"len of labels \",len(train_labels))\n",
        "\n",
        "train_images= np.zeros((2*len(train_df['Image name']),im_size,im_size,3))\n",
        "\n",
        "index=0\n",
        "for image_name in image_names:\n",
        "    #read image\n",
        "    img = imread(dataset_images_location + '/' + image_name + \".jpg\");\n",
        "    img = cv2.resize(img, (im_size, im_size));\n",
        "    #load into array\n",
        "    train_images[index,:,:,0:3] = img\n",
        "\n",
        "    #rot 180\n",
        "    train_images[index + 1] = np.rot90(np.rot90(img))\n",
        "    \n",
        "    index = index + 2\n",
        "\n",
        "train_images = train_images.astype('float32') / np.max(train_images)\n",
        "train_labels = np.array(train_labels, ndmin = 2)\n",
        "train_labels = np.transpose(train_labels)\n",
        "\n",
        "enc = OneHotEncoder(categories='auto', drop=None, sparse=False, dtype = np.int, handle_unknown='error')\n",
        "enc.fit(train_labels)\n",
        "train_labels = enc.transform(train_labels)\n",
        "\n",
        "print(train_images.shape)\n",
        "print(train_labels.shape) \n",
        "train_labels[0:5]"
      ],
      "execution_count": 7,
      "outputs": [
        {
          "output_type": "stream",
          "text": [
            "len of labels  956\n",
            "(956, 224, 224, 3)\n",
            "(956, 2)\n"
          ],
          "name": "stdout"
        },
        {
          "output_type": "execute_result",
          "data": {
            "text/plain": [
              "array([[0, 1],\n",
              "       [0, 1],\n",
              "       [1, 0],\n",
              "       [1, 0],\n",
              "       [0, 1]])"
            ]
          },
          "metadata": {
            "tags": []
          },
          "execution_count": 7
        }
      ]
    },
    {
      "cell_type": "code",
      "metadata": {
        "id": "KwXHn7-jro74"
      },
      "source": [
        "from tensorflow.keras.preprocessing.image import ImageDataGenerator\n",
        "train_datagen = ImageDataGenerator(\n",
        "    shear_range=0.0,\n",
        "    zoom_range=[0.75,1],\n",
        "    #brightness_range=[0.,0.01],\n",
        "    #zca_whitening\t=True,\n",
        "    width_shift_range=1.1,\n",
        "    height_shift_range=0.05,\n",
        "    rotation_range=15,\n",
        "    fill_mode='nearest',\n",
        "    horizontal_flip=True,\n",
        "    vertical_flip=True)\n",
        "train_datagen.fit(train_images)"
      ],
      "execution_count": 8,
      "outputs": []
    },
    {
      "cell_type": "code",
      "metadata": {
        "colab": {
          "base_uri": "https://localhost:8080/"
        },
        "id": "ReklAbJYr3Kx",
        "outputId": "30c213a3-7647-4357-f786-9825687955f3"
      },
      "source": [
        "val_image_names = [];\n",
        "val_image_names = val_df['Image name'];\n",
        "print(\"len of val set \",len(val_image_names))\n",
        "im_size = 224;\n",
        "\n",
        "val_labels = [];\n",
        "val_labels = val_df['Diseased'];\n",
        "\n",
        "val_images = []\n",
        "for image_name in val_image_names:\n",
        "    img = cv2.imread(dataset_images_location + '/' + image_name + \".jpg\");\n",
        "    img = cv2.resize(img, (im_size, im_size));\n",
        "    val_images.append(img);\n",
        "\n",
        "val_images = np.array(val_images)\n",
        "val_images = val_images.astype('float32') / np.max(val_images)\n",
        "val_labels = np.array(val_labels, ndmin = 2)\n",
        "val_labels = np.transpose(val_labels)\n",
        "\n",
        "#use encoder fitted on train data for both val and test data\n",
        "val_labels = enc.transform(val_labels)\n",
        "\n",
        "print(val_images.shape)\n",
        "print(val_labels.shape) "
      ],
      "execution_count": 9,
      "outputs": [
        {
          "output_type": "stream",
          "text": [
            "len of val set  62\n",
            "(62, 224, 224, 3)\n",
            "(62, 2)\n"
          ],
          "name": "stdout"
        }
      ]
    },
    {
      "cell_type": "code",
      "metadata": {
        "id": "6MJsaQEbsNST"
      },
      "source": [
        "val_datagen = ImageDataGenerator(\n",
        "    shear_range=0.0,\n",
        "    zoom_range=[0.75,1],\n",
        "    width_shift_range=1.1,\n",
        "    height_shift_range=0.05,\n",
        "    rotation_range=15,\n",
        "    fill_mode='nearest',\n",
        "    horizontal_flip=True,\n",
        "    vertical_flip=True)\n",
        "val_datagen.fit(val_images)"
      ],
      "execution_count": 10,
      "outputs": []
    },
    {
      "cell_type": "code",
      "metadata": {
        "id": "nAavbydrsKIw"
      },
      "source": [
        "from keras.models import Sequential\n",
        "from tensorflow.keras.applications import EfficientNetB0\n",
        "from tensorflow.keras.applications.resnet50 import ResNet50\n",
        "from tensorflow.keras.applications.densenet import DenseNet121\n",
        "from keras.models import Model"
      ],
      "execution_count": 34,
      "outputs": []
    },
    {
      "cell_type": "code",
      "metadata": {
        "id": "2TpSqhWjrQsJ"
      },
      "source": [
        "def build_model(num_classes,model_name):\n",
        "    random.seed = 135\n",
        "    tf.seed = 135\n",
        "    tf.random.set_seed(135)\n",
        "    IMG_SIZE=224\n",
        "    NUM_CLASSES=num_classes\n",
        "    inputs = layers.Input(shape=(IMG_SIZE, IMG_SIZE, 3))\n",
        "    if model_name=='DenseNet121':\n",
        "      model = DenseNet121(include_top=False, input_tensor=inputs, weights=\"imagenet\")\n",
        "    elif model_name=='EfficientNetB0':\n",
        "      model = EfficientNetB0(include_top=False, input_tensor=inputs, weights=\"imagenet\")\n",
        "    elif model_name=='ResNet50':\n",
        "      model = ResNet50(include_top=False, input_tensor=inputs, weights=\"imagenet\")\n",
        "    # Freeze the pretrained weights\n",
        "    model.trainable = False\n",
        "\n",
        "    # Rebuild top\n",
        "    x = Flatten(name=\"flatten\")(model.output)\n",
        "    top_dropout_rate = 0.2\n",
        "    x = Dropout(top_dropout_rate, name=\"top_dropout_1\")(x)\n",
        "    x = Dense(256, activation=\"relu\", name=\"last_dense_1\")(x)\n",
        "    x = Dropout(top_dropout_rate, name=\"top_dropout_2\")(x)\n",
        "    #x = Dense(256, activation=\"relu\", name=\"last_dense_2\")(x)\n",
        "    outputs = Dense(NUM_CLASSES, activation=\"softmax\", name=\"pred\")(x)\n",
        "\n",
        "    # Compile\n",
        "    model = tf.keras.Model(inputs, outputs, name=\"DenseNet\")\n",
        "    optimizer = tf.keras.optimizers.Adam(learning_rate=1e-5)\n",
        "    model.compile(\n",
        "        optimizer=optimizer, loss=\"categorical_crossentropy\", metrics=[\"accuracy\"]\n",
        "    )\n",
        "    return model"
      ],
      "execution_count": 55,
      "outputs": []
    },
    {
      "cell_type": "code",
      "metadata": {
        "colab": {
          "base_uri": "https://localhost:8080/"
        },
        "id": "FOzAJgVSrlZS",
        "outputId": "d8238121-f011-4a6f-ae8f-5214a5207220"
      },
      "source": [
        "random.seed = 1337\n",
        "tf.seed = 1337\n",
        "tf.random.set_seed(1337)\n",
        "model_dense=build_model(2,'DenseNet121')\n",
        "early_stopping= tf.keras.callbacks.EarlyStopping(monitor = 'accuracy', min_delta = 0.01, patience = 5)\n",
        "hist=model_dense.fit(train_datagen.flow(train_images, train_labels,batch_size=16,shuffle=True),steps_per_epoch=len(train_images) / 16,\n",
        "               epochs = 10, callbacks = [early_stopping],validation_data=val_datagen.flow(val_images,val_labels,batch_size=16));"
      ],
      "execution_count": 69,
      "outputs": [
        {
          "output_type": "stream",
          "text": [
            "Epoch 1/10\n",
            "59/59 [==============================] - 17s 208ms/step - loss: 0.7492 - accuracy: 0.6497 - val_loss: 0.5769 - val_accuracy: 0.7097\n",
            "Epoch 2/10\n",
            "59/59 [==============================] - 10s 174ms/step - loss: 0.4912 - accuracy: 0.7921 - val_loss: 0.9256 - val_accuracy: 0.5484\n",
            "Epoch 3/10\n",
            "59/59 [==============================] - 11s 176ms/step - loss: 0.3666 - accuracy: 0.8408 - val_loss: 0.8910 - val_accuracy: 0.6613\n",
            "Epoch 4/10\n",
            "59/59 [==============================] - 10s 173ms/step - loss: 0.3354 - accuracy: 0.8528 - val_loss: 0.6807 - val_accuracy: 0.6452\n",
            "Epoch 5/10\n",
            "59/59 [==============================] - 11s 177ms/step - loss: 0.2815 - accuracy: 0.8658 - val_loss: 0.6191 - val_accuracy: 0.6613\n",
            "Epoch 6/10\n",
            "59/59 [==============================] - 11s 177ms/step - loss: 0.3413 - accuracy: 0.8553 - val_loss: 0.5642 - val_accuracy: 0.6774\n",
            "Epoch 7/10\n",
            "59/59 [==============================] - 10s 174ms/step - loss: 0.2536 - accuracy: 0.8777 - val_loss: 0.6629 - val_accuracy: 0.6613\n",
            "Epoch 8/10\n",
            "59/59 [==============================] - 10s 174ms/step - loss: 0.2896 - accuracy: 0.8726 - val_loss: 0.6282 - val_accuracy: 0.6935\n",
            "Epoch 9/10\n",
            "59/59 [==============================] - 11s 177ms/step - loss: 0.2351 - accuracy: 0.8990 - val_loss: 0.5013 - val_accuracy: 0.7581\n",
            "Epoch 10/10\n",
            "59/59 [==============================] - 10s 175ms/step - loss: 0.2446 - accuracy: 0.9007 - val_loss: 0.7212 - val_accuracy: 0.7097\n"
          ],
          "name": "stdout"
        }
      ]
    },
    {
      "cell_type": "code",
      "metadata": {
        "colab": {
          "base_uri": "https://localhost:8080/",
          "height": 573
        },
        "id": "oRy6nmnwtqln",
        "outputId": "6b135af7-0f21-4e2d-bc02-811d0fc9f9d1"
      },
      "source": [
        "plt.plot(hist.history[\"loss\"])\n",
        "plt.plot(hist.history[\"val_loss\"])\n",
        "plt.title(\"Loss plot\")\n",
        "plt.ylabel(\"Loss\")\n",
        "plt.xlabel(\"epoch\")\n",
        "plt.show()\n",
        "\n",
        "plt.plot(hist.history[\"accuracy\"])\n",
        "plt.plot(hist.history[\"val_accuracy\"])\n",
        "plt.title(\"model accuracy\")\n",
        "plt.ylabel(\"accuracy\")\n",
        "plt.xlabel(\"epoch\")\n",
        "plt.legend([\"train\", \"validation\"], loc=\"upper left\")\n",
        "plt.show()"
      ],
      "execution_count": 71,
      "outputs": [
        {
          "output_type": "display_data",
          "data": {
            "image/png": "[encoded data removed]",
            "text/plain": [
              "<Figure size 432x288 with 1 Axes>"
            ]
          },
          "metadata": {
            "tags": [],
            "needs_background": "light"
          }
        },
        {
          "output_type": "display_data",
          "data": {
            "image/png": "[encoded data removed]",
            "text/plain": [
              "<Figure size 432x288 with 1 Axes>"
            ]
          },
          "metadata": {
            "tags": [],
            "needs_background": "light"
          }
        }
      ]
    },
    {
      "cell_type": "code",
      "metadata": {
        "colab": {
          "base_uri": "https://localhost:8080/"
        },
        "id": "QqsiUabOCB3B",
        "outputId": "3bd0c0f0-183e-42a1-ce01-dd3814b6861c"
      },
      "source": [
        "random.seed = 1337\n",
        "tf.seed = 1337\n",
        "tf.random.set_seed(1337)\n",
        "model_resnet=build_model(2,'ResNet50')\n",
        "early_stopping= tf.keras.callbacks.EarlyStopping(monitor = 'accuracy', min_delta = 0.01, patience = 6)\n",
        "hist=model_resnet.fit(train_datagen.flow(train_images*255, train_labels,batch_size=16,shuffle=True),steps_per_epoch=len(train_images) / 16,\n",
        "               epochs = 20, callbacks = [early_stopping],validation_data=val_datagen.flow(val_images*255,val_labels,batch_size=16));"
      ],
      "execution_count": 62,
      "outputs": [
        {
          "output_type": "stream",
          "text": [
            "Epoch 1/20\n",
            "59/59 [==============================] - 14s 194ms/step - loss: 0.7249 - accuracy: 0.6966 - val_loss: 1.2787 - val_accuracy: 0.6129\n",
            "Epoch 2/20\n",
            "59/59 [==============================] - 11s 176ms/step - loss: 0.4117 - accuracy: 0.8325 - val_loss: 0.6905 - val_accuracy: 0.7097\n",
            "Epoch 3/20\n",
            "59/59 [==============================] - 11s 177ms/step - loss: 0.3429 - accuracy: 0.8778 - val_loss: 0.7971 - val_accuracy: 0.7097\n",
            "Epoch 4/20\n",
            "59/59 [==============================] - 11s 177ms/step - loss: 0.2435 - accuracy: 0.9018 - val_loss: 0.5339 - val_accuracy: 0.7581\n",
            "Epoch 5/20\n",
            "59/59 [==============================] - 11s 177ms/step - loss: 0.2373 - accuracy: 0.8962 - val_loss: 1.5072 - val_accuracy: 0.5968\n",
            "Epoch 6/20\n",
            "59/59 [==============================] - 11s 176ms/step - loss: 0.2899 - accuracy: 0.8944 - val_loss: 0.9329 - val_accuracy: 0.6774\n",
            "Epoch 7/20\n",
            "59/59 [==============================] - 11s 178ms/step - loss: 0.2162 - accuracy: 0.9008 - val_loss: 1.2098 - val_accuracy: 0.6452\n",
            "Epoch 8/20\n",
            "59/59 [==============================] - 11s 176ms/step - loss: 0.2134 - accuracy: 0.9308 - val_loss: 0.7066 - val_accuracy: 0.8065\n",
            "Epoch 9/20\n",
            "59/59 [==============================] - 11s 176ms/step - loss: 0.1723 - accuracy: 0.9342 - val_loss: 1.0497 - val_accuracy: 0.6935\n",
            "Epoch 10/20\n",
            "59/59 [==============================] - 11s 179ms/step - loss: 0.2190 - accuracy: 0.9145 - val_loss: 0.7901 - val_accuracy: 0.7419\n",
            "Epoch 11/20\n",
            "59/59 [==============================] - 11s 179ms/step - loss: 0.1446 - accuracy: 0.9462 - val_loss: 0.6702 - val_accuracy: 0.7097\n",
            "Epoch 12/20\n",
            "59/59 [==============================] - 11s 177ms/step - loss: 0.1472 - accuracy: 0.9467 - val_loss: 0.8760 - val_accuracy: 0.6774\n",
            "Epoch 13/20\n",
            "59/59 [==============================] - 11s 178ms/step - loss: 0.1631 - accuracy: 0.9369 - val_loss: 0.8114 - val_accuracy: 0.7258\n",
            "Epoch 14/20\n",
            "59/59 [==============================] - 11s 176ms/step - loss: 0.1268 - accuracy: 0.9546 - val_loss: 0.5144 - val_accuracy: 0.8065\n",
            "Epoch 15/20\n",
            "59/59 [==============================] - 11s 177ms/step - loss: 0.1469 - accuracy: 0.9386 - val_loss: 0.7856 - val_accuracy: 0.7258\n",
            "Epoch 16/20\n",
            "59/59 [==============================] - 11s 176ms/step - loss: 0.1018 - accuracy: 0.9611 - val_loss: 0.4921 - val_accuracy: 0.7742\n",
            "Epoch 17/20\n",
            "59/59 [==============================] - 10s 175ms/step - loss: 0.1116 - accuracy: 0.9569 - val_loss: 0.6611 - val_accuracy: 0.7581\n",
            "Epoch 18/20\n",
            "59/59 [==============================] - 11s 176ms/step - loss: 0.1263 - accuracy: 0.9527 - val_loss: 0.9402 - val_accuracy: 0.7258\n"
          ],
          "name": "stdout"
        }
      ]
    },
    {
      "cell_type": "code",
      "metadata": {
        "colab": {
          "base_uri": "https://localhost:8080/",
          "height": 573
        },
        "id": "JRSrjsx5H3JQ",
        "outputId": "91cb6e1b-eae7-4e81-857e-599703fa9cbe"
      },
      "source": [
        "plt.plot(hist.history[\"loss\"])\n",
        "plt.plot(hist.history[\"val_loss\"])\n",
        "plt.title(\"Loss plot\")\n",
        "plt.ylabel(\"Loss\")\n",
        "plt.xlabel(\"epoch\")\n",
        "plt.show()\n",
        "\n",
        "plt.plot(hist.history[\"accuracy\"])\n",
        "plt.plot(hist.history[\"val_accuracy\"])\n",
        "plt.title(\"model accuracy\")\n",
        "plt.ylabel(\"accuracy\")\n",
        "plt.xlabel(\"epoch\")\n",
        "plt.legend([\"train\", \"validation\"], loc=\"upper left\")\n",
        "plt.show()\n"
      ],
      "execution_count": 63,
      "outputs": [
        {
          "output_type": "display_data",
          "data": {
            "image/png": "[encoded data removed]",
            "text/plain": [
              "<Figure size 432x288 with 1 Axes>"
            ]
          },
          "metadata": {
            "tags": [],
            "needs_background": "light"
          }
        },
        {
          "output_type": "display_data",
          "data": {
            "image/png": "[encoded data removed]",
            "text/plain": [
              "<Figure size 432x288 with 1 Axes>"
            ]
          },
          "metadata": {
            "tags": [],
            "needs_background": "light"
          }
        }
      ]
    },
    {
      "cell_type": "code",
      "metadata": {
        "colab": {
          "base_uri": "https://localhost:8080/"
        },
        "id": "oGceARdvJqf6",
        "outputId": "a6f25948-7448-485b-a646-245d6bbabffd"
      },
      "source": [
        "random.seed = 1337\n",
        "tf.seed = 1337\n",
        "tf.random.set_seed(1337)\n",
        "model_eff=build_model(2,'EfficientNetB0')\n",
        "early_stopping= tf.keras.callbacks.EarlyStopping(monitor = 'accuracy', min_delta = 0.01, patience = 6)\n",
        "hist=model_eff.fit(train_datagen.flow(train_images*255, train_labels,batch_size=16,shuffle=True),steps_per_epoch=len(train_images) / 16,\n",
        "               epochs = 20, callbacks = [early_stopping],validation_data=val_datagen.flow(val_images*255,val_labels,batch_size=16));"
      ],
      "execution_count": 54,
      "outputs": [
        {
          "output_type": "stream",
          "text": [
            "Epoch 1/20\n",
            "59/59 [==============================] - 16s 194ms/step - loss: 0.6357 - accuracy: 0.6664 - val_loss: 0.5028 - val_accuracy: 0.7258\n",
            "Epoch 2/20\n",
            "59/59 [==============================] - 10s 172ms/step - loss: 0.3655 - accuracy: 0.8361 - val_loss: 0.6267 - val_accuracy: 0.6613\n",
            "Epoch 3/20\n",
            "59/59 [==============================] - 10s 173ms/step - loss: 0.3103 - accuracy: 0.8609 - val_loss: 0.5898 - val_accuracy: 0.7258\n",
            "Epoch 4/20\n",
            "59/59 [==============================] - 10s 174ms/step - loss: 0.2619 - accuracy: 0.8746 - val_loss: 0.6707 - val_accuracy: 0.7258\n",
            "Epoch 5/20\n",
            "59/59 [==============================] - 10s 172ms/step - loss: 0.2397 - accuracy: 0.8973 - val_loss: 0.5843 - val_accuracy: 0.7419\n",
            "Epoch 6/20\n",
            "59/59 [==============================] - 10s 171ms/step - loss: 0.2418 - accuracy: 0.8996 - val_loss: 0.6549 - val_accuracy: 0.7097\n",
            "Epoch 7/20\n",
            "59/59 [==============================] - 10s 172ms/step - loss: 0.2038 - accuracy: 0.9190 - val_loss: 0.6394 - val_accuracy: 0.6935\n",
            "Epoch 8/20\n",
            "59/59 [==============================] - 10s 172ms/step - loss: 0.1826 - accuracy: 0.9281 - val_loss: 0.5522 - val_accuracy: 0.7903\n",
            "Epoch 9/20\n",
            "59/59 [==============================] - 10s 172ms/step - loss: 0.1977 - accuracy: 0.9143 - val_loss: 0.6515 - val_accuracy: 0.7258\n",
            "Epoch 10/20\n",
            "59/59 [==============================] - 10s 173ms/step - loss: 0.2046 - accuracy: 0.9088 - val_loss: 0.6058 - val_accuracy: 0.7097\n",
            "Epoch 11/20\n",
            "59/59 [==============================] - 10s 173ms/step - loss: 0.1700 - accuracy: 0.9405 - val_loss: 0.6600 - val_accuracy: 0.6774\n",
            "Epoch 12/20\n",
            "59/59 [==============================] - 10s 173ms/step - loss: 0.1793 - accuracy: 0.9241 - val_loss: 0.5900 - val_accuracy: 0.6935\n",
            "Epoch 13/20\n",
            "59/59 [==============================] - 10s 172ms/step - loss: 0.1425 - accuracy: 0.9344 - val_loss: 0.5709 - val_accuracy: 0.7742\n",
            "Epoch 14/20\n",
            "59/59 [==============================] - 10s 172ms/step - loss: 0.1473 - accuracy: 0.9439 - val_loss: 0.6858 - val_accuracy: 0.6452\n",
            "Epoch 15/20\n",
            "59/59 [==============================] - 10s 172ms/step - loss: 0.1269 - accuracy: 0.9531 - val_loss: 0.5914 - val_accuracy: 0.7419\n",
            "Epoch 16/20\n",
            "59/59 [==============================] - 10s 172ms/step - loss: 0.1341 - accuracy: 0.9572 - val_loss: 0.6041 - val_accuracy: 0.6935\n",
            "Epoch 17/20\n",
            "59/59 [==============================] - 10s 173ms/step - loss: 0.1153 - accuracy: 0.9538 - val_loss: 0.8816 - val_accuracy: 0.6452\n",
            "Epoch 18/20\n",
            "59/59 [==============================] - 10s 171ms/step - loss: 0.1424 - accuracy: 0.9378 - val_loss: 0.7829 - val_accuracy: 0.6613\n",
            "Epoch 19/20\n",
            "59/59 [==============================] - 10s 173ms/step - loss: 0.1011 - accuracy: 0.9606 - val_loss: 0.7752 - val_accuracy: 0.7258\n",
            "Epoch 20/20\n",
            "59/59 [==============================] - 10s 173ms/step - loss: 0.1116 - accuracy: 0.9484 - val_loss: 0.8058 - val_accuracy: 0.7097\n"
          ],
          "name": "stdout"
        }
      ]
    },
    {
      "cell_type": "markdown",
      "metadata": {
        "id": "QrxwKUnsuFsq"
      },
      "source": [
        "#load test data\n"
      ]
    },
    {
      "cell_type": "code",
      "metadata": {
        "colab": {
          "base_uri": "https://localhost:8080/",
          "height": 388
        },
        "id": "PFZJkcZiuH_q",
        "outputId": "e4d4d391-499d-4cc6-facb-1cc0191932f4"
      },
      "source": [
        "test_images_location = \"/content/drive/My Drive/IDRid/B. Disease Grading/1. Original Images/b. Testing Set\"\n",
        "test_groundtruth_location = \"/content/drive/MyDrive/IDRid/B. Disease Grading/2. Groundtruths/b. IDRiD_Disease Grading_Testing Labels.csv\"\n",
        "\n",
        "test_df = pd.read_csv(test_groundtruth_location)\n",
        "test_df_ = pd.DataFrame();\n",
        "test_df_['Image name'] = test_df['Image name']\n",
        "test_df_['Retinopathy grade'] = test_df['Retinopathy grade']\n",
        "test_df = test_df_\n",
        "print(test_df.head())\n",
        "test_df['Diseased']=[0 if test_df['Retinopathy grade'][i]<1 else 1 for i in range(len(test_df)) ]\n",
        "test_df['Diseased'].hist()"
      ],
      "execution_count": 15,
      "outputs": [
        {
          "output_type": "stream",
          "text": [
            "  Image name  Retinopathy grade\n",
            "0  IDRiD_001                  4\n",
            "1  IDRiD_002                  4\n",
            "2  IDRiD_003                  4\n",
            "3  IDRiD_004                  4\n",
            "4  IDRiD_005                  4\n"
          ],
          "name": "stdout"
        },
        {
          "output_type": "execute_result",
          "data": {
            "text/plain": [
              "<matplotlib.axes._subplots.AxesSubplot at 0x7f882cc09dd0>"
            ]
          },
          "metadata": {
            "tags": []
          },
          "execution_count": 15
        },
        {
          "output_type": "display_data",
          "data": {
            "image/png": "[encoded data removed]",
            "text/plain": [
              "<Figure size 432x288 with 1 Axes>"
            ]
          },
          "metadata": {
            "tags": [],
            "needs_background": "light"
          }
        }
      ]
    },
    {
      "cell_type": "code",
      "metadata": {
        "colab": {
          "base_uri": "https://localhost:8080/"
        },
        "id": "Uvy6YCuVvDwo",
        "outputId": "b62ca922-1f1e-440d-9d7d-7126eb755965"
      },
      "source": [
        "test_image_names = [];\n",
        "test_image_names = test_df['Image name'];\n",
        "print(\"len of test set \",len(test_image_names))\n",
        "\n",
        "test_labels = [];\n",
        "test_labels = test_df['Diseased'];\n",
        "\n",
        "test_images = []\n",
        "for image_name in test_image_names:\n",
        "    img = cv2.imread(test_images_location + '/' + image_name + \".jpg\");\n",
        "    img = cv2.resize(img, (im_size, im_size));\n",
        "    test_images.append(img);\n",
        "\n",
        "test_images = np.array(test_images)\n",
        "test_images = test_images.astype('float32') / np.max(test_images)\n",
        "test_labels = np.array(test_labels, ndmin = 2)\n",
        "test_labels = np.transpose(test_labels)\n",
        "\n",
        "test_labels = enc.transform(test_labels)\n",
        "\n",
        "print(test_images.shape)\n",
        "print(test_labels.shape) "
      ],
      "execution_count": 16,
      "outputs": [
        {
          "output_type": "stream",
          "text": [
            "len of test set  103\n",
            "(103, 224, 224, 3)\n",
            "(103, 2)\n"
          ],
          "name": "stdout"
        }
      ]
    },
    {
      "cell_type": "markdown",
      "metadata": {
        "id": "NVr0p7BDIZzI"
      },
      "source": [
        "# predicitons"
      ]
    },
    {
      "cell_type": "code",
      "metadata": {
        "colab": {
          "base_uri": "https://localhost:8080/",
          "height": 445
        },
        "id": "VjqDRMwdtki0",
        "outputId": "04be2802-1aa3-4019-8fce-11bea60d9e1e"
      },
      "source": [
        "from sklearn.metrics import precision_score,accuracy_score\n",
        "\n",
        "preds_dense = model_dense.evaluate(test_images, test_labels)\n",
        "preds_resnet = model_resnet.evaluate(test_images*255, test_labels)\n",
        "preds_eff = model_eff.evaluate(test_images*255, test_labels)\n",
        "\n",
        "print(\"Test accuracy....\")\n",
        "print(\" densenet = \" + str(preds_dense[1]))\n",
        "print(\" Resnet   = \" + str(preds_resnet[1]))\n",
        "print(\" EFFnet   = \" + str(preds_eff[1]))\n",
        "\n",
        "pred_y_dense=model_dense.predict(test_images)\n",
        "pred_y_resnet=model_resnet.predict(test_images*255)\n",
        "pred_y_eff=model_eff.predict(test_images*255)\n",
        "\n",
        "pred_y_ens=0.3*pred_y_dense+2*pred_y_eff+0.5*pred_y_resnet\n",
        "cm=confusion_matrix(np.argmax(test_labels,axis=1),np.argmax(pred_y_ens,axis=1))\n",
        "print(cm)\n",
        "plt.imshow(cm, cmap='binary')\n",
        "print(accuracy_score(np.argmax(test_labels,axis=1),np.argmax(pred_y_ens,axis=1)))"
      ],
      "execution_count": 74,
      "outputs": [
        {
          "output_type": "stream",
          "text": [
            "4/4 [==============================] - 0s 74ms/step - loss: 1.1160 - accuracy: 0.5922\n",
            "4/4 [==============================] - 0s 70ms/step - loss: 1.2553 - accuracy: 0.6602\n",
            "4/4 [==============================] - 0s 48ms/step - loss: 0.8981 - accuracy: 0.7670\n",
            "Test accuracy....\n",
            " densenet = 0.5922330021858215\n",
            " Resnet   = 0.6601941585540771\n",
            " EFFnet   = 0.7669903039932251\n",
            "[[30  4]\n",
            " [20 49]]\n",
            "0.7669902912621359\n"
          ],
          "name": "stdout"
        },
        {
          "output_type": "display_data",
          "data": {
            "image/png": "[encoded data removed]",
            "text/plain": [
              "<Figure size 432x288 with 1 Axes>"
            ]
          },
          "metadata": {
            "tags": [],
            "needs_background": "light"
          }
        }
      ]
    },
    {
      "cell_type": "markdown",
      "metadata": {
        "id": "6lE0I-qJR1p1"
      },
      "source": [
        "## below is not part of code\n"
      ]
    },
    {
      "cell_type": "code",
      "metadata": {
        "colab": {
          "base_uri": "https://localhost:8080/"
        },
        "id": "wsZcidcsseGV",
        "outputId": "7ddb1d15-9d2a-4fe9-8114-8bdd0af8542f"
      },
      "source": [
        "from keras.utils.layer_utils import count_params\n",
        "count=0\n",
        "model.trainable=True\n",
        "for layer in model.layers:\n",
        "  if layer.name[-2:]=='bn':\n",
        "    layer.trainable=False\n",
        "    count+=1\n",
        "print(count,\" layers of bn freezed\")\n",
        "trainable_count = count_params(model.trainable_weights)\n",
        "non_trainable_count = count_params(model.non_trainable_weights)"
      ],
      "execution_count": 18,
      "outputs": [
        {
          "output_type": "stream",
          "text": [
            "121  layers of bn freezed\n"
          ],
          "name": "stdout"
        }
      ]
    },
    {
      "cell_type": "code",
      "metadata": {
        "colab": {
          "base_uri": "https://localhost:8080/"
        },
        "id": "eOkrgBsevua0",
        "outputId": "59aa9973-da32-470c-fc25-ad73e8482f38"
      },
      "source": [
        "opt = keras.optimizers.Adam(learning_rate = 1e-7, beta_1 = 0.9)\n",
        "model.compile(loss='categorical_crossentropy',\n",
        "              optimizer=opt,\n",
        "              metrics=['accuracy'])\n",
        "early_stopping= tf.keras.callbacks.EarlyStopping(monitor = 'accuracy', min_delta = 0.01, patience = 3)\n",
        "hist=model.fit(train_datagen.flow(train_images, train_labels,batch_size=16,shuffle=True),steps_per_epoch=len(train_images) / 16,\n",
        "               epochs = 6,callbacks=[early_stopping]);"
      ],
      "execution_count": 19,
      "outputs": [
        {
          "output_type": "stream",
          "text": [
            "Epoch 1/6\n",
            "59/59 [==============================] - 24s 249ms/step - loss: 0.1869 - accuracy: 0.9211\n",
            "Epoch 2/6\n",
            "59/59 [==============================] - 13s 223ms/step - loss: 0.1777 - accuracy: 0.9207\n",
            "Epoch 3/6\n",
            "59/59 [==============================] - 14s 225ms/step - loss: 0.2052 - accuracy: 0.9160\n",
            "Epoch 4/6\n",
            "59/59 [==============================] - 14s 225ms/step - loss: 0.1581 - accuracy: 0.9412\n",
            "Epoch 5/6\n",
            "59/59 [==============================] - 14s 225ms/step - loss: 0.1703 - accuracy: 0.9335\n",
            "Epoch 6/6\n",
            "59/59 [==============================] - 14s 226ms/step - loss: 0.1890 - accuracy: 0.9150\n"
          ],
          "name": "stdout"
        }
      ]
    },
    {
      "cell_type": "code",
      "metadata": {
        "colab": {
          "base_uri": "https://localhost:8080/",
          "height": 375
        },
        "id": "rTDTJB4izEnY",
        "outputId": "6fd620c2-79a4-47c3-aaef-fff0b20c74fb"
      },
      "source": [
        "preds = model.evaluate(test_images, test_labels)\n",
        "print(\"Loss = \" + str(preds[0]))\n",
        "print(\"Test accuracy = \" + str(preds[1]))\n",
        "\n",
        "pred_y=model.predict(test_images)\n",
        "cm=confusion_matrix(np.argmax(test_labels,axis=1),np.argmax(pred_y,axis=1))\n",
        "print(cm)\n",
        "plt.imshow(cm, cmap='binary')"
      ],
      "execution_count": 20,
      "outputs": [
        {
          "output_type": "stream",
          "text": [
            "4/4 [==============================] - 2s 69ms/step - loss: 1.0602 - accuracy: 0.6699\n",
            "Loss = 1.0602229833602905\n",
            "Test accuracy = 0.6699029207229614\n",
            "[[34  0]\n",
            " [34 35]]\n"
          ],
          "name": "stdout"
        },
        {
          "output_type": "execute_result",
          "data": {
            "text/plain": [
              "<matplotlib.image.AxesImage at 0x7f8792304ed0>"
            ]
          },
          "metadata": {
            "tags": []
          },
          "execution_count": 20
        },
        {
          "output_type": "display_data",
          "data": {
            "image/png": "[encoded data removed]",
            "text/plain": [
              "<Figure size 432x288 with 1 Axes>"
            ]
          },
          "metadata": {
            "tags": [],
            "needs_background": "light"
          }
        }
      ]
    },
    {
      "cell_type": "code",
      "metadata": {
        "id": "aWXzdM3RzZi8"
      },
      "source": [
        ""
      ],
      "execution_count": null,
      "outputs": []
    }
  ]
}